{
 "cells": [
  {
   "cell_type": "markdown",
   "metadata": {},
   "source": [
    "## SBDS_Capstone_Proejct_1 - Predict Adults with 50K/yr Income - In Depth Analysis Using Machine Learning Models"
   ]
  },
  {
   "cell_type": "markdown",
   "metadata": {},
   "source": [
    "This capstone project is based on dataset called ‘Adult Data Set’ - (http://archive.ics.uci.edu/ml/datasets/Adult) from UCI’s Machine Learning Repository.\n",
    "This project aims to solve following problems:\n",
    "1.\tPredict whether a person’s income exceed $50K/yr based on the census data\n",
    "2.\tIdentify various segments which may exist in the population based on the data collected\n",
    "\n",
    "We have already completed the Data Wrangling and Data Story part of the project. Now based on the exploratory data analysis done so far, we will first forms some hypothesis based on the results of EDA and then we will apply the infrenetial statstical principals and methods to test the validity of the hypothesis and finally forms some conclusions about the fetures of this dataset which should ultilmately help us in building the requisite Machine Learning models to predict the prices effectively and accurately."
   ]
  },
  {
   "cell_type": "code",
   "execution_count": 1,
   "metadata": {},
   "outputs": [],
   "source": [
    "import pandas as pd\n",
    "import numpy as np\n",
    "import scipy as sp\n",
    "import matplotlib.pyplot as plt\n",
    "import scipy.stats\n",
    "from scipy.stats import t\n",
    "from numpy.random import seed\n",
    "import seaborn as sns\n",
    "import sklearn.model_selection\n",
    "\n",
    "%matplotlib inline"
   ]
  },
  {
   "cell_type": "code",
   "execution_count": 2,
   "metadata": {},
   "outputs": [],
   "source": [
    "# I will first load data for US Geo and do an EDA for the same\n",
    "adult = pd.read_csv('adult_csv.csv')"
   ]
  },
  {
   "cell_type": "code",
   "execution_count": 3,
   "metadata": {},
   "outputs": [
    {
     "data": {
      "text/plain": [
       "(32561, 15)"
      ]
     },
     "execution_count": 3,
     "metadata": {},
     "output_type": "execute_result"
    }
   ],
   "source": [
    "adult.shape"
   ]
  },
  {
   "cell_type": "code",
   "execution_count": 4,
   "metadata": {},
   "outputs": [],
   "source": [
    "pop = 32561"
   ]
  },
  {
   "cell_type": "code",
   "execution_count": 5,
   "metadata": {},
   "outputs": [
    {
     "data": {
      "text/html": [
       "<div>\n",
       "<style scoped>\n",
       "    .dataframe tbody tr th:only-of-type {\n",
       "        vertical-align: middle;\n",
       "    }\n",
       "\n",
       "    .dataframe tbody tr th {\n",
       "        vertical-align: top;\n",
       "    }\n",
       "\n",
       "    .dataframe thead th {\n",
       "        text-align: right;\n",
       "    }\n",
       "</style>\n",
       "<table border=\"1\" class=\"dataframe\">\n",
       "  <thead>\n",
       "    <tr style=\"text-align: right;\">\n",
       "      <th></th>\n",
       "      <th>age</th>\n",
       "      <th>workclass</th>\n",
       "      <th>education</th>\n",
       "      <th>education-num</th>\n",
       "      <th>marital-status</th>\n",
       "      <th>occupation</th>\n",
       "      <th>relationship</th>\n",
       "      <th>race</th>\n",
       "      <th>sex</th>\n",
       "      <th>capital-gain</th>\n",
       "      <th>capital-loss</th>\n",
       "      <th>hours-per-week</th>\n",
       "      <th>native-country</th>\n",
       "      <th>income</th>\n",
       "    </tr>\n",
       "  </thead>\n",
       "  <tbody>\n",
       "    <tr>\n",
       "      <th>0</th>\n",
       "      <td>39</td>\n",
       "      <td>State-gov</td>\n",
       "      <td>Bachelors</td>\n",
       "      <td>13</td>\n",
       "      <td>Never-married</td>\n",
       "      <td>Adm-clerical</td>\n",
       "      <td>Not-in-family</td>\n",
       "      <td>White</td>\n",
       "      <td>Male</td>\n",
       "      <td>2174</td>\n",
       "      <td>0</td>\n",
       "      <td>40</td>\n",
       "      <td>United-States</td>\n",
       "      <td>&lt;=50K</td>\n",
       "    </tr>\n",
       "    <tr>\n",
       "      <th>1</th>\n",
       "      <td>50</td>\n",
       "      <td>Self-emp-not-inc</td>\n",
       "      <td>Bachelors</td>\n",
       "      <td>13</td>\n",
       "      <td>Married-civ-spouse</td>\n",
       "      <td>Exec-managerial</td>\n",
       "      <td>Husband</td>\n",
       "      <td>White</td>\n",
       "      <td>Male</td>\n",
       "      <td>0</td>\n",
       "      <td>0</td>\n",
       "      <td>13</td>\n",
       "      <td>United-States</td>\n",
       "      <td>&lt;=50K</td>\n",
       "    </tr>\n",
       "    <tr>\n",
       "      <th>2</th>\n",
       "      <td>38</td>\n",
       "      <td>Private</td>\n",
       "      <td>HS-grad</td>\n",
       "      <td>9</td>\n",
       "      <td>Divorced</td>\n",
       "      <td>Handlers-cleaners</td>\n",
       "      <td>Not-in-family</td>\n",
       "      <td>White</td>\n",
       "      <td>Male</td>\n",
       "      <td>0</td>\n",
       "      <td>0</td>\n",
       "      <td>40</td>\n",
       "      <td>United-States</td>\n",
       "      <td>&lt;=50K</td>\n",
       "    </tr>\n",
       "    <tr>\n",
       "      <th>3</th>\n",
       "      <td>53</td>\n",
       "      <td>Private</td>\n",
       "      <td>11th</td>\n",
       "      <td>7</td>\n",
       "      <td>Married-civ-spouse</td>\n",
       "      <td>Handlers-cleaners</td>\n",
       "      <td>Husband</td>\n",
       "      <td>Black</td>\n",
       "      <td>Male</td>\n",
       "      <td>0</td>\n",
       "      <td>0</td>\n",
       "      <td>40</td>\n",
       "      <td>United-States</td>\n",
       "      <td>&lt;=50K</td>\n",
       "    </tr>\n",
       "    <tr>\n",
       "      <th>4</th>\n",
       "      <td>28</td>\n",
       "      <td>Private</td>\n",
       "      <td>Bachelors</td>\n",
       "      <td>13</td>\n",
       "      <td>Married-civ-spouse</td>\n",
       "      <td>Prof-specialty</td>\n",
       "      <td>Wife</td>\n",
       "      <td>Black</td>\n",
       "      <td>Female</td>\n",
       "      <td>0</td>\n",
       "      <td>0</td>\n",
       "      <td>40</td>\n",
       "      <td>Cuba</td>\n",
       "      <td>&lt;=50K</td>\n",
       "    </tr>\n",
       "  </tbody>\n",
       "</table>\n",
       "</div>"
      ],
      "text/plain": [
       "   age          workclass   education  education-num       marital-status  \\\n",
       "0   39          State-gov   Bachelors             13        Never-married   \n",
       "1   50   Self-emp-not-inc   Bachelors             13   Married-civ-spouse   \n",
       "2   38            Private     HS-grad              9             Divorced   \n",
       "3   53            Private        11th              7   Married-civ-spouse   \n",
       "4   28            Private   Bachelors             13   Married-civ-spouse   \n",
       "\n",
       "           occupation    relationship    race      sex  capital-gain  \\\n",
       "0        Adm-clerical   Not-in-family   White     Male          2174   \n",
       "1     Exec-managerial         Husband   White     Male             0   \n",
       "2   Handlers-cleaners   Not-in-family   White     Male             0   \n",
       "3   Handlers-cleaners         Husband   Black     Male             0   \n",
       "4      Prof-specialty            Wife   Black   Female             0   \n",
       "\n",
       "   capital-loss  hours-per-week  native-country  income  \n",
       "0             0              40   United-States   <=50K  \n",
       "1             0              13   United-States   <=50K  \n",
       "2             0              40   United-States   <=50K  \n",
       "3             0              40   United-States   <=50K  \n",
       "4             0              40            Cuba   <=50K  "
      ]
     },
     "execution_count": 5,
     "metadata": {},
     "output_type": "execute_result"
    }
   ],
   "source": [
    "adult1 = adult.drop(['fnlwgt'], axis=1)\n",
    "adult1.head()"
   ]
  },
  {
   "cell_type": "code",
   "execution_count": 6,
   "metadata": {
    "scrolled": true
   },
   "outputs": [
    {
     "name": "stdout",
     "output_type": "stream",
     "text": [
      " <=50K    24720\n",
      " >50K      7841\n",
      "Name: income, dtype: int64\n"
     ]
    }
   ],
   "source": [
    "income = adult1['income'].value_counts(dropna=False)\n",
    "print(income)"
   ]
  },
  {
   "cell_type": "markdown",
   "metadata": {},
   "source": [
    "#### Majority of the population - 24,720 people (76%) falls in the low income, <=50K group, with rest of the population - 7841 people (24%) falling in high income, >50K group"
   ]
  },
  {
   "cell_type": "code",
   "execution_count": 7,
   "metadata": {
    "scrolled": true
   },
   "outputs": [],
   "source": [
    "#create a copy similar to adult2 table\n",
    "adult3 = adult.drop(['fnlwgt', 'capital-gain', 'capital-loss'], axis=1)"
   ]
  },
  {
   "cell_type": "markdown",
   "metadata": {},
   "source": [
    "### Now let's change the data type of non-integer attributes from 'object' to 'category' for ease of processing later"
   ]
  },
  {
   "cell_type": "code",
   "execution_count": 8,
   "metadata": {},
   "outputs": [],
   "source": [
    "adult3.workclass = adult3.workclass.astype('category')\n",
    "adult3.education = adult3.education.astype('category')\n",
    "adult3['marital-status'] = adult3['marital-status'].astype('category')\n",
    "adult3.sex = adult3.sex.astype('category')\n",
    "adult3.occupation = adult3.occupation.astype('category')\n",
    "adult3.relationship = adult3.relationship.astype('category')\n",
    "adult3.race = adult3.race.astype('category')\n",
    "adult3['native-country'] = adult3['native-country'].astype('category')\n",
    "#adult3.income = adult3.income.astype('category')"
   ]
  },
  {
   "cell_type": "markdown",
   "metadata": {},
   "source": [
    "### Next we will change the values <=50K and >50K to 0 and 1 repsectively, so that these values can then be utilized easily for EDA and ML modeling later"
   ]
  },
  {
   "cell_type": "code",
   "execution_count": 9,
   "metadata": {
    "scrolled": true
   },
   "outputs": [
    {
     "data": {
      "text/html": [
       "<div>\n",
       "<style scoped>\n",
       "    .dataframe tbody tr th:only-of-type {\n",
       "        vertical-align: middle;\n",
       "    }\n",
       "\n",
       "    .dataframe tbody tr th {\n",
       "        vertical-align: top;\n",
       "    }\n",
       "\n",
       "    .dataframe thead th {\n",
       "        text-align: right;\n",
       "    }\n",
       "</style>\n",
       "<table border=\"1\" class=\"dataframe\">\n",
       "  <thead>\n",
       "    <tr style=\"text-align: right;\">\n",
       "      <th></th>\n",
       "      <th>age</th>\n",
       "      <th>workclass</th>\n",
       "      <th>education</th>\n",
       "      <th>education-num</th>\n",
       "      <th>marital-status</th>\n",
       "      <th>occupation</th>\n",
       "      <th>relationship</th>\n",
       "      <th>race</th>\n",
       "      <th>sex</th>\n",
       "      <th>hours-per-week</th>\n",
       "      <th>native-country</th>\n",
       "      <th>income</th>\n",
       "    </tr>\n",
       "  </thead>\n",
       "  <tbody>\n",
       "    <tr>\n",
       "      <th>0</th>\n",
       "      <td>39</td>\n",
       "      <td>State-gov</td>\n",
       "      <td>Bachelors</td>\n",
       "      <td>13</td>\n",
       "      <td>Never-married</td>\n",
       "      <td>Adm-clerical</td>\n",
       "      <td>Not-in-family</td>\n",
       "      <td>White</td>\n",
       "      <td>Male</td>\n",
       "      <td>40</td>\n",
       "      <td>United-States</td>\n",
       "      <td>&lt;=50K</td>\n",
       "    </tr>\n",
       "    <tr>\n",
       "      <th>1</th>\n",
       "      <td>50</td>\n",
       "      <td>Self-emp-not-inc</td>\n",
       "      <td>Bachelors</td>\n",
       "      <td>13</td>\n",
       "      <td>Married-civ-spouse</td>\n",
       "      <td>Exec-managerial</td>\n",
       "      <td>Husband</td>\n",
       "      <td>White</td>\n",
       "      <td>Male</td>\n",
       "      <td>13</td>\n",
       "      <td>United-States</td>\n",
       "      <td>&lt;=50K</td>\n",
       "    </tr>\n",
       "    <tr>\n",
       "      <th>2</th>\n",
       "      <td>38</td>\n",
       "      <td>Private</td>\n",
       "      <td>HS-grad</td>\n",
       "      <td>9</td>\n",
       "      <td>Divorced</td>\n",
       "      <td>Handlers-cleaners</td>\n",
       "      <td>Not-in-family</td>\n",
       "      <td>White</td>\n",
       "      <td>Male</td>\n",
       "      <td>40</td>\n",
       "      <td>United-States</td>\n",
       "      <td>&lt;=50K</td>\n",
       "    </tr>\n",
       "    <tr>\n",
       "      <th>3</th>\n",
       "      <td>53</td>\n",
       "      <td>Private</td>\n",
       "      <td>11th</td>\n",
       "      <td>7</td>\n",
       "      <td>Married-civ-spouse</td>\n",
       "      <td>Handlers-cleaners</td>\n",
       "      <td>Husband</td>\n",
       "      <td>Black</td>\n",
       "      <td>Male</td>\n",
       "      <td>40</td>\n",
       "      <td>United-States</td>\n",
       "      <td>&lt;=50K</td>\n",
       "    </tr>\n",
       "    <tr>\n",
       "      <th>4</th>\n",
       "      <td>28</td>\n",
       "      <td>Private</td>\n",
       "      <td>Bachelors</td>\n",
       "      <td>13</td>\n",
       "      <td>Married-civ-spouse</td>\n",
       "      <td>Prof-specialty</td>\n",
       "      <td>Wife</td>\n",
       "      <td>Black</td>\n",
       "      <td>Female</td>\n",
       "      <td>40</td>\n",
       "      <td>Cuba</td>\n",
       "      <td>&lt;=50K</td>\n",
       "    </tr>\n",
       "  </tbody>\n",
       "</table>\n",
       "</div>"
      ],
      "text/plain": [
       "   age          workclass   education  education-num       marital-status  \\\n",
       "0   39          State-gov   Bachelors             13        Never-married   \n",
       "1   50   Self-emp-not-inc   Bachelors             13   Married-civ-spouse   \n",
       "2   38            Private     HS-grad              9             Divorced   \n",
       "3   53            Private        11th              7   Married-civ-spouse   \n",
       "4   28            Private   Bachelors             13   Married-civ-spouse   \n",
       "\n",
       "           occupation    relationship    race      sex  hours-per-week  \\\n",
       "0        Adm-clerical   Not-in-family   White     Male              40   \n",
       "1     Exec-managerial         Husband   White     Male              13   \n",
       "2   Handlers-cleaners   Not-in-family   White     Male              40   \n",
       "3   Handlers-cleaners         Husband   Black     Male              40   \n",
       "4      Prof-specialty            Wife   Black   Female              40   \n",
       "\n",
       "   native-country  income  \n",
       "0   United-States   <=50K  \n",
       "1   United-States   <=50K  \n",
       "2   United-States   <=50K  \n",
       "3   United-States   <=50K  \n",
       "4            Cuba   <=50K  "
      ]
     },
     "execution_count": 9,
     "metadata": {},
     "output_type": "execute_result"
    }
   ],
   "source": [
    "adult4=adult3.copy()\n",
    "adult4.head()"
   ]
  },
  {
   "cell_type": "markdown",
   "metadata": {},
   "source": [
    "#### Now let's convert all the non-integer attributes in to categories from objects. This wouold help in reduced usage of memory and also in running advanced statistical and machine learning model."
   ]
  },
  {
   "cell_type": "code",
   "execution_count": 10,
   "metadata": {},
   "outputs": [
    {
     "data": {
      "text/html": [
       "<div>\n",
       "<style scoped>\n",
       "    .dataframe tbody tr th:only-of-type {\n",
       "        vertical-align: middle;\n",
       "    }\n",
       "\n",
       "    .dataframe tbody tr th {\n",
       "        vertical-align: top;\n",
       "    }\n",
       "\n",
       "    .dataframe thead th {\n",
       "        text-align: right;\n",
       "    }\n",
       "</style>\n",
       "<table border=\"1\" class=\"dataframe\">\n",
       "  <thead>\n",
       "    <tr style=\"text-align: right;\">\n",
       "      <th></th>\n",
       "      <th>age</th>\n",
       "      <th>workclass</th>\n",
       "      <th>education</th>\n",
       "      <th>education-num</th>\n",
       "      <th>marital-status</th>\n",
       "      <th>occupation</th>\n",
       "      <th>relationship</th>\n",
       "      <th>race</th>\n",
       "      <th>sex</th>\n",
       "      <th>hours-per-week</th>\n",
       "      <th>native-country</th>\n",
       "      <th>income</th>\n",
       "    </tr>\n",
       "  </thead>\n",
       "  <tbody>\n",
       "    <tr>\n",
       "      <th>0</th>\n",
       "      <td>39</td>\n",
       "      <td>State-gov</td>\n",
       "      <td>Bachelors</td>\n",
       "      <td>13</td>\n",
       "      <td>Never-married</td>\n",
       "      <td>Adm-clerical</td>\n",
       "      <td>Not-in-family</td>\n",
       "      <td>White</td>\n",
       "      <td>Male</td>\n",
       "      <td>40</td>\n",
       "      <td>United-States</td>\n",
       "      <td>0</td>\n",
       "    </tr>\n",
       "    <tr>\n",
       "      <th>1</th>\n",
       "      <td>50</td>\n",
       "      <td>Self-emp-not-inc</td>\n",
       "      <td>Bachelors</td>\n",
       "      <td>13</td>\n",
       "      <td>Married-civ-spouse</td>\n",
       "      <td>Exec-managerial</td>\n",
       "      <td>Husband</td>\n",
       "      <td>White</td>\n",
       "      <td>Male</td>\n",
       "      <td>13</td>\n",
       "      <td>United-States</td>\n",
       "      <td>0</td>\n",
       "    </tr>\n",
       "    <tr>\n",
       "      <th>2</th>\n",
       "      <td>38</td>\n",
       "      <td>Private</td>\n",
       "      <td>HS-grad</td>\n",
       "      <td>9</td>\n",
       "      <td>Divorced</td>\n",
       "      <td>Handlers-cleaners</td>\n",
       "      <td>Not-in-family</td>\n",
       "      <td>White</td>\n",
       "      <td>Male</td>\n",
       "      <td>40</td>\n",
       "      <td>United-States</td>\n",
       "      <td>0</td>\n",
       "    </tr>\n",
       "    <tr>\n",
       "      <th>3</th>\n",
       "      <td>53</td>\n",
       "      <td>Private</td>\n",
       "      <td>11th</td>\n",
       "      <td>7</td>\n",
       "      <td>Married-civ-spouse</td>\n",
       "      <td>Handlers-cleaners</td>\n",
       "      <td>Husband</td>\n",
       "      <td>Black</td>\n",
       "      <td>Male</td>\n",
       "      <td>40</td>\n",
       "      <td>United-States</td>\n",
       "      <td>0</td>\n",
       "    </tr>\n",
       "    <tr>\n",
       "      <th>4</th>\n",
       "      <td>28</td>\n",
       "      <td>Private</td>\n",
       "      <td>Bachelors</td>\n",
       "      <td>13</td>\n",
       "      <td>Married-civ-spouse</td>\n",
       "      <td>Prof-specialty</td>\n",
       "      <td>Wife</td>\n",
       "      <td>Black</td>\n",
       "      <td>Female</td>\n",
       "      <td>40</td>\n",
       "      <td>Cuba</td>\n",
       "      <td>0</td>\n",
       "    </tr>\n",
       "  </tbody>\n",
       "</table>\n",
       "</div>"
      ],
      "text/plain": [
       "   age          workclass   education  education-num       marital-status  \\\n",
       "0   39          State-gov   Bachelors             13        Never-married   \n",
       "1   50   Self-emp-not-inc   Bachelors             13   Married-civ-spouse   \n",
       "2   38            Private     HS-grad              9             Divorced   \n",
       "3   53            Private        11th              7   Married-civ-spouse   \n",
       "4   28            Private   Bachelors             13   Married-civ-spouse   \n",
       "\n",
       "           occupation    relationship    race      sex  hours-per-week  \\\n",
       "0        Adm-clerical   Not-in-family   White     Male              40   \n",
       "1     Exec-managerial         Husband   White     Male              13   \n",
       "2   Handlers-cleaners   Not-in-family   White     Male              40   \n",
       "3   Handlers-cleaners         Husband   Black     Male              40   \n",
       "4      Prof-specialty            Wife   Black   Female              40   \n",
       "\n",
       "   native-country  income  \n",
       "0   United-States       0  \n",
       "1   United-States       0  \n",
       "2   United-States       0  \n",
       "3   United-States       0  \n",
       "4            Cuba       0  "
      ]
     },
     "execution_count": 10,
     "metadata": {},
     "output_type": "execute_result"
    }
   ],
   "source": [
    "replace_map = {'income':{'<=50K' : 0, '>50K' : 1}}\n",
    "adult4.replace(replace_map, inplace=True, regex=True)\n",
    "adult4.head()"
   ]
  },
  {
   "cell_type": "markdown",
   "metadata": {},
   "source": [
    "### Further Numerical and Visual Data Analysis of the 2 income groups"
   ]
  },
  {
   "cell_type": "markdown",
   "metadata": {},
   "source": [
    "### Age distribution among <= 50K and >50K segments\n",
    "The >50K income group clearly has people with higher age than people from <=50K income group. The average age is 44.25 years in high income group vis-a-vis average age of 36.87 years in low income group"
   ]
  },
  {
   "cell_type": "code",
   "execution_count": 11,
   "metadata": {},
   "outputs": [
    {
     "data": {
      "text/plain": [
       "(array([ 0,  1,  2,  3,  4,  5,  6,  7,  8,  9, 10, 11, 12, 13, 14]),\n",
       " <a list of 15 Text major ticklabel objects>)"
      ]
     },
     "execution_count": 11,
     "metadata": {},
     "output_type": "execute_result"
    },
    {
     "data": {
      "text/plain": [
       "<Figure size 720x360 with 0 Axes>"
      ]
     },
     "metadata": {},
     "output_type": "display_data"
    },
    {
     "data": {
      "image/png": "[encoded data removed]",
      "text/plain": [
       "<Figure size 1124.5x360 with 1 Axes>"
      ]
     },
     "metadata": {
      "needs_background": "light"
     },
     "output_type": "display_data"
    }
   ],
   "source": [
    "plt.figure(figsize=(10,5))\n",
    "g= sns.catplot(x='occupation', y='age', hue='income', kind='violin', inner=None, split=True, data=adult4, height=5, aspect=3)\n",
    "#sns.swarmplot(x='occupation', y='age', color='k', size=0.5, data=adult4, ax=g.ax)\n",
    "plt.xticks(\n",
    "    rotation=45, \n",
    "    horizontalalignment='right',\n",
    "    fontweight='light',\n",
    "    fontsize='large')"
   ]
  },
  {
   "cell_type": "markdown",
   "metadata": {},
   "source": [
    "#### The overall trend of age difference between higher income group and lower income group continues across various occupation categories as well"
   ]
  },
  {
   "cell_type": "markdown",
   "metadata": {},
   "source": [
    "#### The overall trend of 'hours worked per week' difference between higher income group and lower income group continues across various occupation categories as well"
   ]
  },
  {
   "cell_type": "markdown",
   "metadata": {},
   "source": [
    "#### __Initial Analysis based on the charts__\n",
    "The charts above illustrate how the distrubution of people for each of the attributes (feature) is in the dataset. Following are the key observations\n",
    "1. For attribute 'native-country' the dominating value is USA\n",
    "2. For attribute 'hours-per-week' the dominating value is @40 hours\n",
    "3. For attribite 'race' the dominating value is for White race.\n",
    "For these attributes, lateron we will see if we can aggregate the 'other' values in one attribute (e.g. for native-country we could divide the dataset between 'USA' and 'NonUSA')\n",
    "4. For all other attributes the data is spread across many categories. Thus we will have to do further analysis for all these categorical attributes to find out their influence on income."
   ]
  },
  {
   "cell_type": "code",
   "execution_count": 12,
   "metadata": {},
   "outputs": [
    {
     "data": {
      "text/html": [
       "<div>\n",
       "<style scoped>\n",
       "    .dataframe tbody tr th:only-of-type {\n",
       "        vertical-align: middle;\n",
       "    }\n",
       "\n",
       "    .dataframe tbody tr th {\n",
       "        vertical-align: top;\n",
       "    }\n",
       "\n",
       "    .dataframe thead th {\n",
       "        text-align: right;\n",
       "    }\n",
       "</style>\n",
       "<table border=\"1\" class=\"dataframe\">\n",
       "  <thead>\n",
       "    <tr style=\"text-align: right;\">\n",
       "      <th></th>\n",
       "      <th>age</th>\n",
       "      <th>workclass</th>\n",
       "      <th>education</th>\n",
       "      <th>education-num</th>\n",
       "      <th>marital-status</th>\n",
       "      <th>occupation</th>\n",
       "      <th>relationship</th>\n",
       "      <th>race</th>\n",
       "      <th>sex</th>\n",
       "      <th>hours-per-week</th>\n",
       "      <th>native-country</th>\n",
       "      <th>income</th>\n",
       "    </tr>\n",
       "  </thead>\n",
       "  <tbody>\n",
       "    <tr>\n",
       "      <th>0</th>\n",
       "      <td>39</td>\n",
       "      <td>State-gov</td>\n",
       "      <td>Bachelors</td>\n",
       "      <td>13</td>\n",
       "      <td>Never-married</td>\n",
       "      <td>Adm-clerical</td>\n",
       "      <td>Not-in-family</td>\n",
       "      <td>White</td>\n",
       "      <td>Male</td>\n",
       "      <td>40</td>\n",
       "      <td>United-States</td>\n",
       "      <td>0</td>\n",
       "    </tr>\n",
       "    <tr>\n",
       "      <th>1</th>\n",
       "      <td>50</td>\n",
       "      <td>Self-emp-not-inc</td>\n",
       "      <td>Bachelors</td>\n",
       "      <td>13</td>\n",
       "      <td>Married-civ-spouse</td>\n",
       "      <td>Exec-managerial</td>\n",
       "      <td>Husband</td>\n",
       "      <td>White</td>\n",
       "      <td>Male</td>\n",
       "      <td>13</td>\n",
       "      <td>United-States</td>\n",
       "      <td>0</td>\n",
       "    </tr>\n",
       "    <tr>\n",
       "      <th>2</th>\n",
       "      <td>38</td>\n",
       "      <td>Private</td>\n",
       "      <td>HS-grad</td>\n",
       "      <td>9</td>\n",
       "      <td>Divorced</td>\n",
       "      <td>Handlers-cleaners</td>\n",
       "      <td>Not-in-family</td>\n",
       "      <td>White</td>\n",
       "      <td>Male</td>\n",
       "      <td>40</td>\n",
       "      <td>United-States</td>\n",
       "      <td>0</td>\n",
       "    </tr>\n",
       "    <tr>\n",
       "      <th>3</th>\n",
       "      <td>53</td>\n",
       "      <td>Private</td>\n",
       "      <td>11th</td>\n",
       "      <td>7</td>\n",
       "      <td>Married-civ-spouse</td>\n",
       "      <td>Handlers-cleaners</td>\n",
       "      <td>Husband</td>\n",
       "      <td>Black</td>\n",
       "      <td>Male</td>\n",
       "      <td>40</td>\n",
       "      <td>United-States</td>\n",
       "      <td>0</td>\n",
       "    </tr>\n",
       "    <tr>\n",
       "      <th>4</th>\n",
       "      <td>28</td>\n",
       "      <td>Private</td>\n",
       "      <td>Bachelors</td>\n",
       "      <td>13</td>\n",
       "      <td>Married-civ-spouse</td>\n",
       "      <td>Prof-specialty</td>\n",
       "      <td>Wife</td>\n",
       "      <td>Black</td>\n",
       "      <td>Female</td>\n",
       "      <td>40</td>\n",
       "      <td>Cuba</td>\n",
       "      <td>0</td>\n",
       "    </tr>\n",
       "  </tbody>\n",
       "</table>\n",
       "</div>"
      ],
      "text/plain": [
       "   age          workclass   education  education-num       marital-status  \\\n",
       "0   39          State-gov   Bachelors             13        Never-married   \n",
       "1   50   Self-emp-not-inc   Bachelors             13   Married-civ-spouse   \n",
       "2   38            Private     HS-grad              9             Divorced   \n",
       "3   53            Private        11th              7   Married-civ-spouse   \n",
       "4   28            Private   Bachelors             13   Married-civ-spouse   \n",
       "\n",
       "           occupation    relationship    race      sex  hours-per-week  \\\n",
       "0        Adm-clerical   Not-in-family   White     Male              40   \n",
       "1     Exec-managerial         Husband   White     Male              13   \n",
       "2   Handlers-cleaners   Not-in-family   White     Male              40   \n",
       "3   Handlers-cleaners         Husband   Black     Male              40   \n",
       "4      Prof-specialty            Wife   Black   Female              40   \n",
       "\n",
       "   native-country  income  \n",
       "0   United-States       0  \n",
       "1   United-States       0  \n",
       "2   United-States       0  \n",
       "3   United-States       0  \n",
       "4            Cuba       0  "
      ]
     },
     "execution_count": 12,
     "metadata": {},
     "output_type": "execute_result"
    }
   ],
   "source": [
    "adult5 = adult4.copy()\n",
    "adult5.head()"
   ]
  },
  {
   "cell_type": "code",
   "execution_count": 13,
   "metadata": {},
   "outputs": [
    {
     "data": {
      "text/html": [
       "<div>\n",
       "<style scoped>\n",
       "    .dataframe tbody tr th:only-of-type {\n",
       "        vertical-align: middle;\n",
       "    }\n",
       "\n",
       "    .dataframe tbody tr th {\n",
       "        vertical-align: top;\n",
       "    }\n",
       "\n",
       "    .dataframe thead th {\n",
       "        text-align: right;\n",
       "    }\n",
       "</style>\n",
       "<table border=\"1\" class=\"dataframe\">\n",
       "  <thead>\n",
       "    <tr style=\"text-align: right;\">\n",
       "      <th></th>\n",
       "      <th>age</th>\n",
       "      <th>workclass</th>\n",
       "      <th>education</th>\n",
       "      <th>education-num</th>\n",
       "      <th>marital-status</th>\n",
       "      <th>occupation</th>\n",
       "      <th>relationship</th>\n",
       "      <th>race</th>\n",
       "      <th>sex</th>\n",
       "      <th>hours-per-week</th>\n",
       "      <th>native-country</th>\n",
       "      <th>income</th>\n",
       "      <th>native</th>\n",
       "    </tr>\n",
       "  </thead>\n",
       "  <tbody>\n",
       "    <tr>\n",
       "      <th>0</th>\n",
       "      <td>39</td>\n",
       "      <td>State-gov</td>\n",
       "      <td>Bachelors</td>\n",
       "      <td>13</td>\n",
       "      <td>Never-married</td>\n",
       "      <td>Adm-clerical</td>\n",
       "      <td>Not-in-family</td>\n",
       "      <td>White</td>\n",
       "      <td>Male</td>\n",
       "      <td>40</td>\n",
       "      <td>United-States</td>\n",
       "      <td>0</td>\n",
       "      <td>United-States</td>\n",
       "    </tr>\n",
       "    <tr>\n",
       "      <th>1</th>\n",
       "      <td>50</td>\n",
       "      <td>Self-emp-not-inc</td>\n",
       "      <td>Bachelors</td>\n",
       "      <td>13</td>\n",
       "      <td>Married-civ-spouse</td>\n",
       "      <td>Exec-managerial</td>\n",
       "      <td>Husband</td>\n",
       "      <td>White</td>\n",
       "      <td>Male</td>\n",
       "      <td>13</td>\n",
       "      <td>United-States</td>\n",
       "      <td>0</td>\n",
       "      <td>United-States</td>\n",
       "    </tr>\n",
       "    <tr>\n",
       "      <th>2</th>\n",
       "      <td>38</td>\n",
       "      <td>Private</td>\n",
       "      <td>HS-grad</td>\n",
       "      <td>9</td>\n",
       "      <td>Divorced</td>\n",
       "      <td>Handlers-cleaners</td>\n",
       "      <td>Not-in-family</td>\n",
       "      <td>White</td>\n",
       "      <td>Male</td>\n",
       "      <td>40</td>\n",
       "      <td>United-States</td>\n",
       "      <td>0</td>\n",
       "      <td>United-States</td>\n",
       "    </tr>\n",
       "    <tr>\n",
       "      <th>3</th>\n",
       "      <td>53</td>\n",
       "      <td>Private</td>\n",
       "      <td>11th</td>\n",
       "      <td>7</td>\n",
       "      <td>Married-civ-spouse</td>\n",
       "      <td>Handlers-cleaners</td>\n",
       "      <td>Husband</td>\n",
       "      <td>Black</td>\n",
       "      <td>Male</td>\n",
       "      <td>40</td>\n",
       "      <td>United-States</td>\n",
       "      <td>0</td>\n",
       "      <td>United-States</td>\n",
       "    </tr>\n",
       "    <tr>\n",
       "      <th>4</th>\n",
       "      <td>28</td>\n",
       "      <td>Private</td>\n",
       "      <td>Bachelors</td>\n",
       "      <td>13</td>\n",
       "      <td>Married-civ-spouse</td>\n",
       "      <td>Prof-specialty</td>\n",
       "      <td>Wife</td>\n",
       "      <td>Black</td>\n",
       "      <td>Female</td>\n",
       "      <td>40</td>\n",
       "      <td>Cuba</td>\n",
       "      <td>0</td>\n",
       "      <td>Cuba</td>\n",
       "    </tr>\n",
       "  </tbody>\n",
       "</table>\n",
       "</div>"
      ],
      "text/plain": [
       "   age          workclass   education  education-num       marital-status  \\\n",
       "0   39          State-gov   Bachelors             13        Never-married   \n",
       "1   50   Self-emp-not-inc   Bachelors             13   Married-civ-spouse   \n",
       "2   38            Private     HS-grad              9             Divorced   \n",
       "3   53            Private        11th              7   Married-civ-spouse   \n",
       "4   28            Private   Bachelors             13   Married-civ-spouse   \n",
       "\n",
       "           occupation    relationship    race      sex  hours-per-week  \\\n",
       "0        Adm-clerical   Not-in-family   White     Male              40   \n",
       "1     Exec-managerial         Husband   White     Male              13   \n",
       "2   Handlers-cleaners   Not-in-family   White     Male              40   \n",
       "3   Handlers-cleaners         Husband   Black     Male              40   \n",
       "4      Prof-specialty            Wife   Black   Female              40   \n",
       "\n",
       "   native-country  income          native  \n",
       "0   United-States       0   United-States  \n",
       "1   United-States       0   United-States  \n",
       "2   United-States       0   United-States  \n",
       "3   United-States       0   United-States  \n",
       "4            Cuba       0            Cuba  "
      ]
     },
     "execution_count": 13,
     "metadata": {},
     "output_type": "execute_result"
    }
   ],
   "source": [
    "adult5['native'] = adult5['native-country'].copy()\n",
    "adult5['native'] = adult5['native'].astype('object')\n",
    "adult5.head()"
   ]
  },
  {
   "cell_type": "code",
   "execution_count": 14,
   "metadata": {
    "scrolled": false
   },
   "outputs": [
    {
     "data": {
      "text/plain": [
       " US       29170\n",
       " NonUS     3391\n",
       "Name: native, dtype: int64"
      ]
     },
     "execution_count": 14,
     "metadata": {},
     "output_type": "execute_result"
    }
   ],
   "source": [
    "replace_map1 = {'native':{'United-States':'US', 'Cuba':'NonUS','Jamaica':'NonUS', 'India':'NonUS', '\\?':'NonUS', 'Mexico':'NonUS',\n",
    "       'South':'NonUS', 'Puerto-Rico':'NonUS', 'Honduras':'NonUS', 'England':'NonUS', 'Canada':'NonUS',\n",
    "       'Germany':'NonUS', 'Iran':'NonUS', 'Philippines':'NonUS', 'Italy':'NonUS', 'Poland':'NonUS',\n",
    "       'Columbia':'NonUS', 'Cambodia':'NonUS', 'Thailand':'NonUS', 'Ecuador':'NonUS', 'Laos':'NonUS',\n",
    "       'Taiwan':'NonUS', 'Haiti':'NonUS', 'Portugal':'NonUS', 'Dominican-Republic':'NonUS',\n",
    "       'El-Salvador':'NonUS', 'France':'NonUS', 'Guatemala':'NonUS', 'China':'NonUS', 'Japan':'NonUS',\n",
    "       'Yugoslavia':'NonUS', 'Peru':'NonUS', 'Outlying-US\\(Guam-USVI-etc\\)':'NonUS', 'Scotland':'NonUS',\n",
    "       'Trinadad&Tobago':'NonUS', 'Greece':'NonUS', 'Nicaragua':'NonUS', 'Vietnam':'NonUS', 'Hong':'NonUS',\n",
    "       'Ireland':'NonUS', 'Hungary':'NonUS', 'Holand-Netherlands':'NonUS'}}\n",
    "adult5.replace(replace_map1, inplace=True, regex=True)\n",
    "adult5.native.value_counts()\n",
    "# Please note the backslash used for '\\?' and 'Outlying-US\\(Guam-USVI-etc\\)' so that those charecters are escaped while executing this command."
   ]
  },
  {
   "cell_type": "markdown",
   "metadata": {},
   "source": [
    "### Let's do the analysis of how attributes age, education-num, hours-per-week differe between people with <=50K and >50K income"
   ]
  },
  {
   "cell_type": "code",
   "execution_count": 15,
   "metadata": {
    "scrolled": true
   },
   "outputs": [
    {
     "name": "stdout",
     "output_type": "stream",
     "text": [
      "32561\n"
     ]
    }
   ],
   "source": [
    "n = adult5.income.count()\n",
    "print(n)"
   ]
  },
  {
   "cell_type": "code",
   "execution_count": 16,
   "metadata": {},
   "outputs": [
    {
     "name": "stdout",
     "output_type": "stream",
     "text": [
      "(7841, 13)\n",
      "               age  education-num  hours-per-week  income\n",
      "count  7841.000000    7841.000000     7841.000000  7841.0\n",
      "mean     44.249841      11.611657       45.473026     1.0\n",
      "std      10.519028       2.385129       11.012971     0.0\n",
      "min      19.000000       2.000000        1.000000     1.0\n",
      "25%      36.000000      10.000000       40.000000     1.0\n",
      "50%      44.000000      12.000000       40.000000     1.0\n",
      "75%      51.000000      13.000000       50.000000     1.0\n",
      "max      90.000000      16.000000       99.000000     1.0\n"
     ]
    },
    {
     "data": {
      "text/html": [
       "<div>\n",
       "<style scoped>\n",
       "    .dataframe tbody tr th:only-of-type {\n",
       "        vertical-align: middle;\n",
       "    }\n",
       "\n",
       "    .dataframe tbody tr th {\n",
       "        vertical-align: top;\n",
       "    }\n",
       "\n",
       "    .dataframe thead th {\n",
       "        text-align: right;\n",
       "    }\n",
       "</style>\n",
       "<table border=\"1\" class=\"dataframe\">\n",
       "  <thead>\n",
       "    <tr style=\"text-align: right;\">\n",
       "      <th></th>\n",
       "      <th>age</th>\n",
       "      <th>workclass</th>\n",
       "      <th>education</th>\n",
       "      <th>education-num</th>\n",
       "      <th>marital-status</th>\n",
       "      <th>occupation</th>\n",
       "      <th>relationship</th>\n",
       "      <th>race</th>\n",
       "      <th>sex</th>\n",
       "      <th>hours-per-week</th>\n",
       "      <th>native-country</th>\n",
       "      <th>income</th>\n",
       "      <th>native</th>\n",
       "    </tr>\n",
       "  </thead>\n",
       "  <tbody>\n",
       "    <tr>\n",
       "      <th>7</th>\n",
       "      <td>52</td>\n",
       "      <td>Self-emp-not-inc</td>\n",
       "      <td>HS-grad</td>\n",
       "      <td>9</td>\n",
       "      <td>Married-civ-spouse</td>\n",
       "      <td>Exec-managerial</td>\n",
       "      <td>Husband</td>\n",
       "      <td>White</td>\n",
       "      <td>Male</td>\n",
       "      <td>45</td>\n",
       "      <td>United-States</td>\n",
       "      <td>1</td>\n",
       "      <td>US</td>\n",
       "    </tr>\n",
       "    <tr>\n",
       "      <th>8</th>\n",
       "      <td>31</td>\n",
       "      <td>Private</td>\n",
       "      <td>Masters</td>\n",
       "      <td>14</td>\n",
       "      <td>Never-married</td>\n",
       "      <td>Prof-specialty</td>\n",
       "      <td>Not-in-family</td>\n",
       "      <td>White</td>\n",
       "      <td>Female</td>\n",
       "      <td>50</td>\n",
       "      <td>United-States</td>\n",
       "      <td>1</td>\n",
       "      <td>US</td>\n",
       "    </tr>\n",
       "    <tr>\n",
       "      <th>9</th>\n",
       "      <td>42</td>\n",
       "      <td>Private</td>\n",
       "      <td>Bachelors</td>\n",
       "      <td>13</td>\n",
       "      <td>Married-civ-spouse</td>\n",
       "      <td>Exec-managerial</td>\n",
       "      <td>Husband</td>\n",
       "      <td>White</td>\n",
       "      <td>Male</td>\n",
       "      <td>40</td>\n",
       "      <td>United-States</td>\n",
       "      <td>1</td>\n",
       "      <td>US</td>\n",
       "    </tr>\n",
       "    <tr>\n",
       "      <th>10</th>\n",
       "      <td>37</td>\n",
       "      <td>Private</td>\n",
       "      <td>Some-college</td>\n",
       "      <td>10</td>\n",
       "      <td>Married-civ-spouse</td>\n",
       "      <td>Exec-managerial</td>\n",
       "      <td>Husband</td>\n",
       "      <td>Black</td>\n",
       "      <td>Male</td>\n",
       "      <td>80</td>\n",
       "      <td>United-States</td>\n",
       "      <td>1</td>\n",
       "      <td>US</td>\n",
       "    </tr>\n",
       "    <tr>\n",
       "      <th>11</th>\n",
       "      <td>30</td>\n",
       "      <td>State-gov</td>\n",
       "      <td>Bachelors</td>\n",
       "      <td>13</td>\n",
       "      <td>Married-civ-spouse</td>\n",
       "      <td>Prof-specialty</td>\n",
       "      <td>Husband</td>\n",
       "      <td>Asian-Pac-Islander</td>\n",
       "      <td>Male</td>\n",
       "      <td>40</td>\n",
       "      <td>India</td>\n",
       "      <td>1</td>\n",
       "      <td>NonUS</td>\n",
       "    </tr>\n",
       "  </tbody>\n",
       "</table>\n",
       "</div>"
      ],
      "text/plain": [
       "    age          workclass      education  education-num       marital-status  \\\n",
       "7    52   Self-emp-not-inc        HS-grad              9   Married-civ-spouse   \n",
       "8    31            Private        Masters             14        Never-married   \n",
       "9    42            Private      Bachelors             13   Married-civ-spouse   \n",
       "10   37            Private   Some-college             10   Married-civ-spouse   \n",
       "11   30          State-gov      Bachelors             13   Married-civ-spouse   \n",
       "\n",
       "          occupation    relationship                 race      sex  \\\n",
       "7    Exec-managerial         Husband                White     Male   \n",
       "8     Prof-specialty   Not-in-family                White   Female   \n",
       "9    Exec-managerial         Husband                White     Male   \n",
       "10   Exec-managerial         Husband                Black     Male   \n",
       "11    Prof-specialty         Husband   Asian-Pac-Islander     Male   \n",
       "\n",
       "    hours-per-week  native-country  income  native  \n",
       "7               45   United-States       1      US  \n",
       "8               50   United-States       1      US  \n",
       "9               40   United-States       1      US  \n",
       "10              80   United-States       1      US  \n",
       "11              40           India       1   NonUS  "
      ]
     },
     "execution_count": 16,
     "metadata": {},
     "output_type": "execute_result"
    }
   ],
   "source": [
    "highinc = adult5[adult5.income==1]\n",
    "print(highinc.shape)\n",
    "print(highinc.describe())\n",
    "highinc.head()"
   ]
  },
  {
   "cell_type": "code",
   "execution_count": 17,
   "metadata": {
    "scrolled": false
   },
   "outputs": [
    {
     "name": "stdout",
     "output_type": "stream",
     "text": [
      "(24720, 13)\n",
      "                age  education-num  hours-per-week   income\n",
      "count  24720.000000   24720.000000    24720.000000  24720.0\n",
      "mean      36.783738       9.595065       38.840210      0.0\n",
      "std       14.020088       2.436147       12.318995      0.0\n",
      "min       17.000000       1.000000        1.000000      0.0\n",
      "25%       25.000000       9.000000       35.000000      0.0\n",
      "50%       34.000000       9.000000       40.000000      0.0\n",
      "75%       46.000000      10.000000       40.000000      0.0\n",
      "max       90.000000      16.000000       99.000000      0.0\n"
     ]
    },
    {
     "data": {
      "text/html": [
       "<div>\n",
       "<style scoped>\n",
       "    .dataframe tbody tr th:only-of-type {\n",
       "        vertical-align: middle;\n",
       "    }\n",
       "\n",
       "    .dataframe tbody tr th {\n",
       "        vertical-align: top;\n",
       "    }\n",
       "\n",
       "    .dataframe thead th {\n",
       "        text-align: right;\n",
       "    }\n",
       "</style>\n",
       "<table border=\"1\" class=\"dataframe\">\n",
       "  <thead>\n",
       "    <tr style=\"text-align: right;\">\n",
       "      <th></th>\n",
       "      <th>age</th>\n",
       "      <th>workclass</th>\n",
       "      <th>education</th>\n",
       "      <th>education-num</th>\n",
       "      <th>marital-status</th>\n",
       "      <th>occupation</th>\n",
       "      <th>relationship</th>\n",
       "      <th>race</th>\n",
       "      <th>sex</th>\n",
       "      <th>hours-per-week</th>\n",
       "      <th>native-country</th>\n",
       "      <th>income</th>\n",
       "      <th>native</th>\n",
       "    </tr>\n",
       "  </thead>\n",
       "  <tbody>\n",
       "    <tr>\n",
       "      <th>0</th>\n",
       "      <td>39</td>\n",
       "      <td>State-gov</td>\n",
       "      <td>Bachelors</td>\n",
       "      <td>13</td>\n",
       "      <td>Never-married</td>\n",
       "      <td>Adm-clerical</td>\n",
       "      <td>Not-in-family</td>\n",
       "      <td>White</td>\n",
       "      <td>Male</td>\n",
       "      <td>40</td>\n",
       "      <td>United-States</td>\n",
       "      <td>0</td>\n",
       "      <td>US</td>\n",
       "    </tr>\n",
       "    <tr>\n",
       "      <th>1</th>\n",
       "      <td>50</td>\n",
       "      <td>Self-emp-not-inc</td>\n",
       "      <td>Bachelors</td>\n",
       "      <td>13</td>\n",
       "      <td>Married-civ-spouse</td>\n",
       "      <td>Exec-managerial</td>\n",
       "      <td>Husband</td>\n",
       "      <td>White</td>\n",
       "      <td>Male</td>\n",
       "      <td>13</td>\n",
       "      <td>United-States</td>\n",
       "      <td>0</td>\n",
       "      <td>US</td>\n",
       "    </tr>\n",
       "    <tr>\n",
       "      <th>2</th>\n",
       "      <td>38</td>\n",
       "      <td>Private</td>\n",
       "      <td>HS-grad</td>\n",
       "      <td>9</td>\n",
       "      <td>Divorced</td>\n",
       "      <td>Handlers-cleaners</td>\n",
       "      <td>Not-in-family</td>\n",
       "      <td>White</td>\n",
       "      <td>Male</td>\n",
       "      <td>40</td>\n",
       "      <td>United-States</td>\n",
       "      <td>0</td>\n",
       "      <td>US</td>\n",
       "    </tr>\n",
       "    <tr>\n",
       "      <th>3</th>\n",
       "      <td>53</td>\n",
       "      <td>Private</td>\n",
       "      <td>11th</td>\n",
       "      <td>7</td>\n",
       "      <td>Married-civ-spouse</td>\n",
       "      <td>Handlers-cleaners</td>\n",
       "      <td>Husband</td>\n",
       "      <td>Black</td>\n",
       "      <td>Male</td>\n",
       "      <td>40</td>\n",
       "      <td>United-States</td>\n",
       "      <td>0</td>\n",
       "      <td>US</td>\n",
       "    </tr>\n",
       "    <tr>\n",
       "      <th>4</th>\n",
       "      <td>28</td>\n",
       "      <td>Private</td>\n",
       "      <td>Bachelors</td>\n",
       "      <td>13</td>\n",
       "      <td>Married-civ-spouse</td>\n",
       "      <td>Prof-specialty</td>\n",
       "      <td>Wife</td>\n",
       "      <td>Black</td>\n",
       "      <td>Female</td>\n",
       "      <td>40</td>\n",
       "      <td>Cuba</td>\n",
       "      <td>0</td>\n",
       "      <td>NonUS</td>\n",
       "    </tr>\n",
       "  </tbody>\n",
       "</table>\n",
       "</div>"
      ],
      "text/plain": [
       "   age          workclass   education  education-num       marital-status  \\\n",
       "0   39          State-gov   Bachelors             13        Never-married   \n",
       "1   50   Self-emp-not-inc   Bachelors             13   Married-civ-spouse   \n",
       "2   38            Private     HS-grad              9             Divorced   \n",
       "3   53            Private        11th              7   Married-civ-spouse   \n",
       "4   28            Private   Bachelors             13   Married-civ-spouse   \n",
       "\n",
       "           occupation    relationship    race      sex  hours-per-week  \\\n",
       "0        Adm-clerical   Not-in-family   White     Male              40   \n",
       "1     Exec-managerial         Husband   White     Male              13   \n",
       "2   Handlers-cleaners   Not-in-family   White     Male              40   \n",
       "3   Handlers-cleaners         Husband   Black     Male              40   \n",
       "4      Prof-specialty            Wife   Black   Female              40   \n",
       "\n",
       "   native-country  income  native  \n",
       "0   United-States       0      US  \n",
       "1   United-States       0      US  \n",
       "2   United-States       0      US  \n",
       "3   United-States       0      US  \n",
       "4            Cuba       0   NonUS  "
      ]
     },
     "execution_count": 17,
     "metadata": {},
     "output_type": "execute_result"
    }
   ],
   "source": [
    "lowinc = adult5[adult5.income==0]\n",
    "print(lowinc.shape)\n",
    "print(lowinc.describe())\n",
    "lowinc.head()"
   ]
  },
  {
   "cell_type": "markdown",
   "metadata": {},
   "source": [
    "#### With details on stastical analysis of the 3 attributes (age, education, hours-per-week) as analyzed in the last section of this capstone project (Statistical Analysis part) we will now work on applying the machine laearning principals, concepts and models to arrive at a model which can be used to predict the income of the sample based on the demographic data as collected in the sensus."
   ]
  },
  {
   "cell_type": "code",
   "execution_count": 18,
   "metadata": {},
   "outputs": [
    {
     "data": {
      "text/html": [
       "<div>\n",
       "<style scoped>\n",
       "    .dataframe tbody tr th:only-of-type {\n",
       "        vertical-align: middle;\n",
       "    }\n",
       "\n",
       "    .dataframe tbody tr th {\n",
       "        vertical-align: top;\n",
       "    }\n",
       "\n",
       "    .dataframe thead th {\n",
       "        text-align: right;\n",
       "    }\n",
       "</style>\n",
       "<table border=\"1\" class=\"dataframe\">\n",
       "  <thead>\n",
       "    <tr style=\"text-align: right;\">\n",
       "      <th></th>\n",
       "      <th>age</th>\n",
       "      <th>workclass</th>\n",
       "      <th>education</th>\n",
       "      <th>education-num</th>\n",
       "      <th>marital-status</th>\n",
       "      <th>occupation</th>\n",
       "      <th>relationship</th>\n",
       "      <th>race</th>\n",
       "      <th>sex</th>\n",
       "      <th>hours-per-week</th>\n",
       "      <th>native-country</th>\n",
       "      <th>income</th>\n",
       "      <th>native</th>\n",
       "    </tr>\n",
       "  </thead>\n",
       "  <tbody>\n",
       "    <tr>\n",
       "      <th>32556</th>\n",
       "      <td>27</td>\n",
       "      <td>Private</td>\n",
       "      <td>Assoc-acdm</td>\n",
       "      <td>12</td>\n",
       "      <td>Married-civ-spouse</td>\n",
       "      <td>Tech-support</td>\n",
       "      <td>Wife</td>\n",
       "      <td>White</td>\n",
       "      <td>Female</td>\n",
       "      <td>38</td>\n",
       "      <td>United-States</td>\n",
       "      <td>0</td>\n",
       "      <td>US</td>\n",
       "    </tr>\n",
       "    <tr>\n",
       "      <th>32557</th>\n",
       "      <td>40</td>\n",
       "      <td>Private</td>\n",
       "      <td>HS-grad</td>\n",
       "      <td>9</td>\n",
       "      <td>Married-civ-spouse</td>\n",
       "      <td>Machine-op-inspct</td>\n",
       "      <td>Husband</td>\n",
       "      <td>White</td>\n",
       "      <td>Male</td>\n",
       "      <td>40</td>\n",
       "      <td>United-States</td>\n",
       "      <td>1</td>\n",
       "      <td>US</td>\n",
       "    </tr>\n",
       "    <tr>\n",
       "      <th>32558</th>\n",
       "      <td>58</td>\n",
       "      <td>Private</td>\n",
       "      <td>HS-grad</td>\n",
       "      <td>9</td>\n",
       "      <td>Widowed</td>\n",
       "      <td>Adm-clerical</td>\n",
       "      <td>Unmarried</td>\n",
       "      <td>White</td>\n",
       "      <td>Female</td>\n",
       "      <td>40</td>\n",
       "      <td>United-States</td>\n",
       "      <td>0</td>\n",
       "      <td>US</td>\n",
       "    </tr>\n",
       "    <tr>\n",
       "      <th>32559</th>\n",
       "      <td>22</td>\n",
       "      <td>Private</td>\n",
       "      <td>HS-grad</td>\n",
       "      <td>9</td>\n",
       "      <td>Never-married</td>\n",
       "      <td>Adm-clerical</td>\n",
       "      <td>Own-child</td>\n",
       "      <td>White</td>\n",
       "      <td>Male</td>\n",
       "      <td>20</td>\n",
       "      <td>United-States</td>\n",
       "      <td>0</td>\n",
       "      <td>US</td>\n",
       "    </tr>\n",
       "    <tr>\n",
       "      <th>32560</th>\n",
       "      <td>52</td>\n",
       "      <td>Self-emp-inc</td>\n",
       "      <td>HS-grad</td>\n",
       "      <td>9</td>\n",
       "      <td>Married-civ-spouse</td>\n",
       "      <td>Exec-managerial</td>\n",
       "      <td>Wife</td>\n",
       "      <td>White</td>\n",
       "      <td>Female</td>\n",
       "      <td>40</td>\n",
       "      <td>United-States</td>\n",
       "      <td>1</td>\n",
       "      <td>US</td>\n",
       "    </tr>\n",
       "  </tbody>\n",
       "</table>\n",
       "</div>"
      ],
      "text/plain": [
       "       age      workclass    education  education-num       marital-status  \\\n",
       "32556   27        Private   Assoc-acdm             12   Married-civ-spouse   \n",
       "32557   40        Private      HS-grad              9   Married-civ-spouse   \n",
       "32558   58        Private      HS-grad              9              Widowed   \n",
       "32559   22        Private      HS-grad              9        Never-married   \n",
       "32560   52   Self-emp-inc      HS-grad              9   Married-civ-spouse   \n",
       "\n",
       "               occupation relationship    race      sex  hours-per-week  \\\n",
       "32556        Tech-support         Wife   White   Female              38   \n",
       "32557   Machine-op-inspct      Husband   White     Male              40   \n",
       "32558        Adm-clerical    Unmarried   White   Female              40   \n",
       "32559        Adm-clerical    Own-child   White     Male              20   \n",
       "32560     Exec-managerial         Wife   White   Female              40   \n",
       "\n",
       "       native-country  income native  \n",
       "32556   United-States       0     US  \n",
       "32557   United-States       1     US  \n",
       "32558   United-States       0     US  \n",
       "32559   United-States       0     US  \n",
       "32560   United-States       1     US  "
      ]
     },
     "execution_count": 18,
     "metadata": {},
     "output_type": "execute_result"
    }
   ],
   "source": [
    "adult5.tail()"
   ]
  },
  {
   "cell_type": "code",
   "execution_count": 19,
   "metadata": {
    "scrolled": true
   },
   "outputs": [
    {
     "data": {
      "text/html": [
       "<div>\n",
       "<style scoped>\n",
       "    .dataframe tbody tr th:only-of-type {\n",
       "        vertical-align: middle;\n",
       "    }\n",
       "\n",
       "    .dataframe tbody tr th {\n",
       "        vertical-align: top;\n",
       "    }\n",
       "\n",
       "    .dataframe thead th {\n",
       "        text-align: right;\n",
       "    }\n",
       "</style>\n",
       "<table border=\"1\" class=\"dataframe\">\n",
       "  <thead>\n",
       "    <tr style=\"text-align: right;\">\n",
       "      <th></th>\n",
       "      <th>age</th>\n",
       "      <th>education-num</th>\n",
       "      <th>hours-per-week</th>\n",
       "      <th>income</th>\n",
       "    </tr>\n",
       "  </thead>\n",
       "  <tbody>\n",
       "    <tr>\n",
       "      <th>count</th>\n",
       "      <td>32561.000000</td>\n",
       "      <td>32561.000000</td>\n",
       "      <td>32561.000000</td>\n",
       "      <td>32561.000000</td>\n",
       "    </tr>\n",
       "    <tr>\n",
       "      <th>mean</th>\n",
       "      <td>38.581647</td>\n",
       "      <td>10.080679</td>\n",
       "      <td>40.437456</td>\n",
       "      <td>0.240810</td>\n",
       "    </tr>\n",
       "    <tr>\n",
       "      <th>std</th>\n",
       "      <td>13.640433</td>\n",
       "      <td>2.572720</td>\n",
       "      <td>12.347429</td>\n",
       "      <td>0.427581</td>\n",
       "    </tr>\n",
       "    <tr>\n",
       "      <th>min</th>\n",
       "      <td>17.000000</td>\n",
       "      <td>1.000000</td>\n",
       "      <td>1.000000</td>\n",
       "      <td>0.000000</td>\n",
       "    </tr>\n",
       "    <tr>\n",
       "      <th>25%</th>\n",
       "      <td>28.000000</td>\n",
       "      <td>9.000000</td>\n",
       "      <td>40.000000</td>\n",
       "      <td>0.000000</td>\n",
       "    </tr>\n",
       "    <tr>\n",
       "      <th>50%</th>\n",
       "      <td>37.000000</td>\n",
       "      <td>10.000000</td>\n",
       "      <td>40.000000</td>\n",
       "      <td>0.000000</td>\n",
       "    </tr>\n",
       "    <tr>\n",
       "      <th>75%</th>\n",
       "      <td>48.000000</td>\n",
       "      <td>12.000000</td>\n",
       "      <td>45.000000</td>\n",
       "      <td>0.000000</td>\n",
       "    </tr>\n",
       "    <tr>\n",
       "      <th>max</th>\n",
       "      <td>90.000000</td>\n",
       "      <td>16.000000</td>\n",
       "      <td>99.000000</td>\n",
       "      <td>1.000000</td>\n",
       "    </tr>\n",
       "  </tbody>\n",
       "</table>\n",
       "</div>"
      ],
      "text/plain": [
       "                age  education-num  hours-per-week        income\n",
       "count  32561.000000   32561.000000    32561.000000  32561.000000\n",
       "mean      38.581647      10.080679       40.437456      0.240810\n",
       "std       13.640433       2.572720       12.347429      0.427581\n",
       "min       17.000000       1.000000        1.000000      0.000000\n",
       "25%       28.000000       9.000000       40.000000      0.000000\n",
       "50%       37.000000      10.000000       40.000000      0.000000\n",
       "75%       48.000000      12.000000       45.000000      0.000000\n",
       "max       90.000000      16.000000       99.000000      1.000000"
      ]
     },
     "execution_count": 19,
     "metadata": {},
     "output_type": "execute_result"
    }
   ],
   "source": [
    "adult5.describe()"
   ]
  },
  {
   "cell_type": "markdown",
   "metadata": {},
   "source": [
    "#### Additional Data Cleaning"
   ]
  },
  {
   "cell_type": "code",
   "execution_count": 20,
   "metadata": {},
   "outputs": [],
   "source": [
    "# Changing type back to Object from Category as mapping method is not working on Categorical type\n",
    "adult5['workclass'] = adult5['workclass'].astype('object')\n",
    "adult5['occupation'] = adult5['occupation'].astype('object')"
   ]
  },
  {
   "cell_type": "code",
   "execution_count": 21,
   "metadata": {},
   "outputs": [
    {
     "name": "stdout",
     "output_type": "stream",
     "text": [
      "<class 'pandas.core.frame.DataFrame'>\n",
      "RangeIndex: 32561 entries, 0 to 32560\n",
      "Data columns (total 13 columns):\n",
      " #   Column          Non-Null Count  Dtype   \n",
      "---  ------          --------------  -----   \n",
      " 0   age             32561 non-null  int64   \n",
      " 1   workclass       32561 non-null  object  \n",
      " 2   education       32561 non-null  category\n",
      " 3   education-num   32561 non-null  int64   \n",
      " 4   marital-status  32561 non-null  category\n",
      " 5   occupation      32561 non-null  object  \n",
      " 6   relationship    32561 non-null  category\n",
      " 7   race            32561 non-null  category\n",
      " 8   sex             32561 non-null  category\n",
      " 9   hours-per-week  32561 non-null  int64   \n",
      " 10  native-country  32561 non-null  category\n",
      " 11  income          32561 non-null  int64   \n",
      " 12  native          32561 non-null  object  \n",
      "dtypes: category(6), int64(4), object(3)\n",
      "memory usage: 1.9+ MB\n"
     ]
    }
   ],
   "source": [
    "adult5.info()"
   ]
  },
  {
   "cell_type": "code",
   "execution_count": 22,
   "metadata": {},
   "outputs": [
    {
     "name": "stdout",
     "output_type": "stream",
     "text": [
      " Private             22696\n",
      " Self-emp-not-inc     2541\n",
      " Local-gov            2093\n",
      " ?                    1836\n",
      " State-gov            1298\n",
      " Self-emp-inc         1116\n",
      " Federal-gov           960\n",
      " Without-pay            14\n",
      " Never-worked            7\n",
      "Name: workclass, dtype: int64\n"
     ]
    }
   ],
   "source": [
    "# Replace '?' value for some records in 'workclass' feature with 'Unknown-Workclass'\n",
    "replace_map2 = {'workclass':{'Unknown' : 'Unknown-Workplace'}}\n",
    "adult5.replace(replace_map2, inplace=True, regex=True)\n",
    "print(adult5.workclass.value_counts())"
   ]
  },
  {
   "cell_type": "code",
   "execution_count": 23,
   "metadata": {
    "scrolled": true
   },
   "outputs": [],
   "source": [
    "# Replace '?' value for some records in 'occupation' feature with 'Unknown-Occupation'\n",
    "replace_map3 = {'occupation':{'\\?' : 'Unknown-Occupation'}}\n",
    "adult5.replace(replace_map3, inplace=True, regex=True)"
   ]
  },
  {
   "cell_type": "code",
   "execution_count": 24,
   "metadata": {},
   "outputs": [
    {
     "name": "stdout",
     "output_type": "stream",
     "text": [
      " Prof-specialty        4140\n",
      " Craft-repair          4099\n",
      " Exec-managerial       4066\n",
      " Adm-clerical          3770\n",
      " Sales                 3650\n",
      " Other-service         3295\n",
      " Machine-op-inspct     2002\n",
      " Unknown-Occupation    1843\n",
      " Transport-moving      1597\n",
      " Handlers-cleaners     1370\n",
      " Farming-fishing        994\n",
      " Tech-support           928\n",
      " Protective-serv        649\n",
      " Priv-house-serv        149\n",
      " Armed-Forces             9\n",
      "Name: occupation, dtype: int64\n"
     ]
    }
   ],
   "source": [
    "print(adult5.occupation.value_counts())"
   ]
  },
  {
   "cell_type": "code",
   "execution_count": 25,
   "metadata": {},
   "outputs": [
    {
     "name": "stdout",
     "output_type": "stream",
     "text": [
      "<class 'pandas.core.frame.DataFrame'>\n",
      "RangeIndex: 32561 entries, 0 to 32560\n",
      "Data columns (total 13 columns):\n",
      " #   Column          Non-Null Count  Dtype   \n",
      "---  ------          --------------  -----   \n",
      " 0   age             32561 non-null  int64   \n",
      " 1   workclass       32561 non-null  object  \n",
      " 2   education       32561 non-null  category\n",
      " 3   education-num   32561 non-null  int64   \n",
      " 4   marital-status  32561 non-null  category\n",
      " 5   occupation      32561 non-null  object  \n",
      " 6   relationship    32561 non-null  category\n",
      " 7   race            32561 non-null  category\n",
      " 8   sex             32561 non-null  category\n",
      " 9   hours-per-week  32561 non-null  int64   \n",
      " 10  native-country  32561 non-null  category\n",
      " 11  income          32561 non-null  int64   \n",
      " 12  native          32561 non-null  object  \n",
      "dtypes: category(6), int64(4), object(3)\n",
      "memory usage: 1.9+ MB\n"
     ]
    }
   ],
   "source": [
    "adult5.info()"
   ]
  },
  {
   "cell_type": "markdown",
   "metadata": {},
   "source": [
    "### Drop duplicate or unnecessary columns"
   ]
  },
  {
   "cell_type": "code",
   "execution_count": 26,
   "metadata": {},
   "outputs": [
    {
     "data": {
      "text/plain": [
       "Index(['age', 'workclass', 'education-num', 'marital-status', 'occupation',\n",
       "       'relationship', 'race', 'sex', 'hours-per-week', 'income', 'native'],\n",
       "      dtype='object')"
      ]
     },
     "execution_count": 26,
     "metadata": {},
     "output_type": "execute_result"
    }
   ],
   "source": [
    "adult6 = adult5.drop(['native-country', 'education'], axis=1)\n",
    "adult6.columns"
   ]
  },
  {
   "cell_type": "code",
   "execution_count": 27,
   "metadata": {
    "scrolled": false
   },
   "outputs": [
    {
     "data": {
      "text/plain": [
       " US       29170\n",
       " NonUS     3391\n",
       "Name: native, dtype: int64"
      ]
     },
     "execution_count": 27,
     "metadata": {},
     "output_type": "execute_result"
    }
   ],
   "source": [
    "adult6['native'].value_counts()"
   ]
  },
  {
   "cell_type": "markdown",
   "metadata": {},
   "source": [
    "### Let's do some pre-precessing before we can apply the regression models"
   ]
  },
  {
   "cell_type": "markdown",
   "metadata": {},
   "source": [
    "### Change the feature type from Object to Category for some features (workclass, occupation, native)"
   ]
  },
  {
   "cell_type": "code",
   "execution_count": 28,
   "metadata": {},
   "outputs": [
    {
     "name": "stdout",
     "output_type": "stream",
     "text": [
      "<class 'pandas.core.frame.DataFrame'>\n",
      "RangeIndex: 32561 entries, 0 to 32560\n",
      "Data columns (total 11 columns):\n",
      " #   Column          Non-Null Count  Dtype   \n",
      "---  ------          --------------  -----   \n",
      " 0   age             32561 non-null  int64   \n",
      " 1   workclass       32561 non-null  category\n",
      " 2   education-num   32561 non-null  int64   \n",
      " 3   marital-status  32561 non-null  category\n",
      " 4   occupation      32561 non-null  category\n",
      " 5   relationship    32561 non-null  category\n",
      " 6   race            32561 non-null  category\n",
      " 7   sex             32561 non-null  category\n",
      " 8   hours-per-week  32561 non-null  int64   \n",
      " 9   income          32561 non-null  int64   \n",
      " 10  native          32561 non-null  category\n",
      "dtypes: category(7), int64(4)\n",
      "memory usage: 1.2 MB\n"
     ]
    }
   ],
   "source": [
    "adult6['workclass'] = adult5['workclass'].astype('category')\n",
    "adult6['occupation'] = adult5['occupation'].astype('category')\n",
    "adult6['native'] = adult5['native'].astype('category')\n",
    "adult6.info()"
   ]
  },
  {
   "cell_type": "code",
   "execution_count": 29,
   "metadata": {},
   "outputs": [],
   "source": [
    "### Use 'OneHotEncoder' to change 'Categorical' features in to 'Continuous Intergers'"
   ]
  },
  {
   "cell_type": "code",
   "execution_count": 30,
   "metadata": {},
   "outputs": [
    {
     "name": "stdout",
     "output_type": "stream",
     "text": [
      "<class 'pandas.core.frame.DataFrame'>\n",
      "RangeIndex: 32561 entries, 0 to 32560\n",
      "Data columns (total 11 columns):\n",
      " #   Column          Non-Null Count  Dtype   \n",
      "---  ------          --------------  -----   \n",
      " 0   age             32561 non-null  int64   \n",
      " 1   workclass       32561 non-null  category\n",
      " 2   education-num   32561 non-null  int64   \n",
      " 3   marital-status  32561 non-null  category\n",
      " 4   occupation      32561 non-null  category\n",
      " 5   relationship    32561 non-null  category\n",
      " 6   race            32561 non-null  category\n",
      " 7   sex             32561 non-null  category\n",
      " 8   hours-per-week  32561 non-null  int64   \n",
      " 9   income          32561 non-null  int64   \n",
      " 10  native          32561 non-null  category\n",
      "dtypes: category(7), int64(4)\n",
      "memory usage: 1.2 MB\n"
     ]
    }
   ],
   "source": [
    "adult7 = adult6.copy()\n",
    "adult7.info()"
   ]
  },
  {
   "cell_type": "code",
   "execution_count": 31,
   "metadata": {
    "scrolled": true
   },
   "outputs": [],
   "source": [
    "X1 = adult7.drop(['income'], axis=1)"
   ]
  },
  {
   "cell_type": "code",
   "execution_count": 32,
   "metadata": {
    "scrolled": true
   },
   "outputs": [
    {
     "data": {
      "text/html": [
       "<div>\n",
       "<style scoped>\n",
       "    .dataframe tbody tr th:only-of-type {\n",
       "        vertical-align: middle;\n",
       "    }\n",
       "\n",
       "    .dataframe tbody tr th {\n",
       "        vertical-align: top;\n",
       "    }\n",
       "\n",
       "    .dataframe thead th {\n",
       "        text-align: right;\n",
       "    }\n",
       "</style>\n",
       "<table border=\"1\" class=\"dataframe\">\n",
       "  <thead>\n",
       "    <tr style=\"text-align: right;\">\n",
       "      <th></th>\n",
       "      <th>age</th>\n",
       "      <th>education-num</th>\n",
       "      <th>hours-per-week</th>\n",
       "      <th>workclass_ ?</th>\n",
       "      <th>workclass_ Federal-gov</th>\n",
       "      <th>workclass_ Local-gov</th>\n",
       "      <th>workclass_ Never-worked</th>\n",
       "      <th>workclass_ Private</th>\n",
       "      <th>workclass_ Self-emp-inc</th>\n",
       "      <th>workclass_ Self-emp-not-inc</th>\n",
       "      <th>...</th>\n",
       "      <th>relationship_ Wife</th>\n",
       "      <th>race_ Amer-Indian-Eskimo</th>\n",
       "      <th>race_ Asian-Pac-Islander</th>\n",
       "      <th>race_ Black</th>\n",
       "      <th>race_ Other</th>\n",
       "      <th>race_ White</th>\n",
       "      <th>sex_ Female</th>\n",
       "      <th>sex_ Male</th>\n",
       "      <th>native_ NonUS</th>\n",
       "      <th>native_ US</th>\n",
       "    </tr>\n",
       "  </thead>\n",
       "  <tbody>\n",
       "    <tr>\n",
       "      <th>0</th>\n",
       "      <td>39</td>\n",
       "      <td>13</td>\n",
       "      <td>40</td>\n",
       "      <td>0</td>\n",
       "      <td>0</td>\n",
       "      <td>0</td>\n",
       "      <td>0</td>\n",
       "      <td>0</td>\n",
       "      <td>0</td>\n",
       "      <td>0</td>\n",
       "      <td>...</td>\n",
       "      <td>0</td>\n",
       "      <td>0</td>\n",
       "      <td>0</td>\n",
       "      <td>0</td>\n",
       "      <td>0</td>\n",
       "      <td>1</td>\n",
       "      <td>0</td>\n",
       "      <td>1</td>\n",
       "      <td>0</td>\n",
       "      <td>1</td>\n",
       "    </tr>\n",
       "    <tr>\n",
       "      <th>1</th>\n",
       "      <td>50</td>\n",
       "      <td>13</td>\n",
       "      <td>13</td>\n",
       "      <td>0</td>\n",
       "      <td>0</td>\n",
       "      <td>0</td>\n",
       "      <td>0</td>\n",
       "      <td>0</td>\n",
       "      <td>0</td>\n",
       "      <td>1</td>\n",
       "      <td>...</td>\n",
       "      <td>0</td>\n",
       "      <td>0</td>\n",
       "      <td>0</td>\n",
       "      <td>0</td>\n",
       "      <td>0</td>\n",
       "      <td>1</td>\n",
       "      <td>0</td>\n",
       "      <td>1</td>\n",
       "      <td>0</td>\n",
       "      <td>1</td>\n",
       "    </tr>\n",
       "    <tr>\n",
       "      <th>2</th>\n",
       "      <td>38</td>\n",
       "      <td>9</td>\n",
       "      <td>40</td>\n",
       "      <td>0</td>\n",
       "      <td>0</td>\n",
       "      <td>0</td>\n",
       "      <td>0</td>\n",
       "      <td>1</td>\n",
       "      <td>0</td>\n",
       "      <td>0</td>\n",
       "      <td>...</td>\n",
       "      <td>0</td>\n",
       "      <td>0</td>\n",
       "      <td>0</td>\n",
       "      <td>0</td>\n",
       "      <td>0</td>\n",
       "      <td>1</td>\n",
       "      <td>0</td>\n",
       "      <td>1</td>\n",
       "      <td>0</td>\n",
       "      <td>1</td>\n",
       "    </tr>\n",
       "    <tr>\n",
       "      <th>3</th>\n",
       "      <td>53</td>\n",
       "      <td>7</td>\n",
       "      <td>40</td>\n",
       "      <td>0</td>\n",
       "      <td>0</td>\n",
       "      <td>0</td>\n",
       "      <td>0</td>\n",
       "      <td>1</td>\n",
       "      <td>0</td>\n",
       "      <td>0</td>\n",
       "      <td>...</td>\n",
       "      <td>0</td>\n",
       "      <td>0</td>\n",
       "      <td>0</td>\n",
       "      <td>1</td>\n",
       "      <td>0</td>\n",
       "      <td>0</td>\n",
       "      <td>0</td>\n",
       "      <td>1</td>\n",
       "      <td>0</td>\n",
       "      <td>1</td>\n",
       "    </tr>\n",
       "    <tr>\n",
       "      <th>4</th>\n",
       "      <td>28</td>\n",
       "      <td>13</td>\n",
       "      <td>40</td>\n",
       "      <td>0</td>\n",
       "      <td>0</td>\n",
       "      <td>0</td>\n",
       "      <td>0</td>\n",
       "      <td>1</td>\n",
       "      <td>0</td>\n",
       "      <td>0</td>\n",
       "      <td>...</td>\n",
       "      <td>1</td>\n",
       "      <td>0</td>\n",
       "      <td>0</td>\n",
       "      <td>1</td>\n",
       "      <td>0</td>\n",
       "      <td>0</td>\n",
       "      <td>1</td>\n",
       "      <td>0</td>\n",
       "      <td>1</td>\n",
       "      <td>0</td>\n",
       "    </tr>\n",
       "  </tbody>\n",
       "</table>\n",
       "<p>5 rows × 49 columns</p>\n",
       "</div>"
      ],
      "text/plain": [
       "   age  education-num  hours-per-week  workclass_ ?  workclass_ Federal-gov  \\\n",
       "0   39             13              40             0                       0   \n",
       "1   50             13              13             0                       0   \n",
       "2   38              9              40             0                       0   \n",
       "3   53              7              40             0                       0   \n",
       "4   28             13              40             0                       0   \n",
       "\n",
       "   workclass_ Local-gov  workclass_ Never-worked  workclass_ Private  \\\n",
       "0                     0                        0                   0   \n",
       "1                     0                        0                   0   \n",
       "2                     0                        0                   1   \n",
       "3                     0                        0                   1   \n",
       "4                     0                        0                   1   \n",
       "\n",
       "   workclass_ Self-emp-inc  workclass_ Self-emp-not-inc  ...  \\\n",
       "0                        0                            0  ...   \n",
       "1                        0                            1  ...   \n",
       "2                        0                            0  ...   \n",
       "3                        0                            0  ...   \n",
       "4                        0                            0  ...   \n",
       "\n",
       "   relationship_ Wife  race_ Amer-Indian-Eskimo  race_ Asian-Pac-Islander  \\\n",
       "0                   0                         0                         0   \n",
       "1                   0                         0                         0   \n",
       "2                   0                         0                         0   \n",
       "3                   0                         0                         0   \n",
       "4                   1                         0                         0   \n",
       "\n",
       "   race_ Black  race_ Other  race_ White  sex_ Female  sex_ Male  \\\n",
       "0            0            0            1            0          1   \n",
       "1            0            0            1            0          1   \n",
       "2            0            0            1            0          1   \n",
       "3            1            0            0            0          1   \n",
       "4            1            0            0            1          0   \n",
       "\n",
       "   native_ NonUS  native_ US  \n",
       "0              0           1  \n",
       "1              0           1  \n",
       "2              0           1  \n",
       "3              0           1  \n",
       "4              1           0  \n",
       "\n",
       "[5 rows x 49 columns]"
      ]
     },
     "execution_count": 32,
     "metadata": {},
     "output_type": "execute_result"
    }
   ],
   "source": [
    "X2 = pd.get_dummies(X1)\n",
    "X2.head()"
   ]
  },
  {
   "cell_type": "code",
   "execution_count": 33,
   "metadata": {},
   "outputs": [],
   "source": [
    "from sklearn.preprocessing import scale\n",
    "X3 = scale(X2)"
   ]
  },
  {
   "cell_type": "code",
   "execution_count": 34,
   "metadata": {
    "scrolled": true
   },
   "outputs": [
    {
     "data": {
      "text/plain": [
       "(age                                      38.581647\n",
       " education-num                            10.080679\n",
       " hours-per-week                           40.437456\n",
       " workclass_ ?                              0.056386\n",
       " workclass_ Federal-gov                    0.029483\n",
       " workclass_ Local-gov                      0.064279\n",
       " workclass_ Never-worked                   0.000215\n",
       " workclass_ Private                        0.697030\n",
       " workclass_ Self-emp-inc                   0.034274\n",
       " workclass_ Self-emp-not-inc               0.078038\n",
       " workclass_ State-gov                      0.039864\n",
       " workclass_ Without-pay                    0.000430\n",
       " marital-status_ Divorced                  0.136452\n",
       " marital-status_ Married-AF-spouse         0.000706\n",
       " marital-status_ Married-civ-spouse        0.459937\n",
       " marital-status_ Married-spouse-absent     0.012837\n",
       " marital-status_ Never-married             0.328092\n",
       " marital-status_ Separated                 0.031479\n",
       " marital-status_ Widowed                   0.030497\n",
       " occupation_ Adm-clerical                  0.115783\n",
       " occupation_ Armed-Forces                  0.000276\n",
       " occupation_ Craft-repair                  0.125887\n",
       " occupation_ Exec-managerial               0.124873\n",
       " occupation_ Farming-fishing               0.030527\n",
       " occupation_ Handlers-cleaners             0.042075\n",
       " occupation_ Machine-op-inspct             0.061485\n",
       " occupation_ Other-service                 0.101195\n",
       " occupation_ Priv-house-serv               0.004576\n",
       " occupation_ Prof-specialty                0.127146\n",
       " occupation_ Protective-serv               0.019932\n",
       " occupation_ Sales                         0.112097\n",
       " occupation_ Tech-support                  0.028500\n",
       " occupation_ Transport-moving              0.049046\n",
       " occupation_ Unknown-Occupation            0.056601\n",
       " relationship_ Husband                     0.405178\n",
       " relationship_ Not-in-family               0.255060\n",
       " relationship_ Other-relative              0.030128\n",
       " relationship_ Own-child                   0.155646\n",
       " relationship_ Unmarried                   0.105832\n",
       " relationship_ Wife                        0.048156\n",
       " race_ Amer-Indian-Eskimo                  0.009551\n",
       " race_ Asian-Pac-Islander                  0.031909\n",
       " race_ Black                               0.095943\n",
       " race_ Other                               0.008323\n",
       " race_ White                               0.854274\n",
       " sex_ Female                               0.330795\n",
       " sex_ Male                                 0.669205\n",
       " native_ NonUS                             0.104143\n",
       " native_ US                                0.895857\n",
       " dtype: float64,\n",
       " age                                      13.640223\n",
       " education-num                             2.572681\n",
       " hours-per-week                           12.347239\n",
       " workclass_ ?                              0.230667\n",
       " workclass_ Federal-gov                    0.169156\n",
       " workclass_ Local-gov                      0.245250\n",
       " workclass_ Never-worked                   0.014661\n",
       " workclass_ Private                        0.459542\n",
       " workclass_ Self-emp-inc                   0.181932\n",
       " workclass_ Self-emp-not-inc               0.268232\n",
       " workclass_ State-gov                      0.195639\n",
       " workclass_ Without-pay                    0.020731\n",
       " marital-status_ Divorced                  0.343267\n",
       " marital-status_ Married-AF-spouse         0.026568\n",
       " marital-status_ Married-civ-spouse        0.498392\n",
       " marital-status_ Married-spouse-absent     0.112573\n",
       " marital-status_ Never-married             0.469518\n",
       " marital-status_ Separated                 0.174609\n",
       " marital-status_ Widowed                   0.171949\n",
       " occupation_ Adm-clerical                  0.319964\n",
       " occupation_ Armed-Forces                  0.016623\n",
       " occupation_ Craft-repair                  0.331722\n",
       " occupation_ Exec-managerial               0.330575\n",
       " occupation_ Farming-fishing               0.172033\n",
       " occupation_ Handlers-cleaners             0.200760\n",
       " occupation_ Machine-op-inspct             0.240217\n",
       " occupation_ Other-service                 0.301586\n",
       " occupation_ Priv-house-serv               0.067491\n",
       " occupation_ Prof-specialty                0.333136\n",
       " occupation_ Protective-serv               0.139766\n",
       " occupation_ Sales                         0.315486\n",
       " occupation_ Tech-support                  0.166397\n",
       " occupation_ Transport-moving              0.215965\n",
       " occupation_ Unknown-Occupation            0.231079\n",
       " relationship_ Husband                     0.490926\n",
       " relationship_ Not-in-family               0.435895\n",
       " relationship_ Other-relative              0.170940\n",
       " relationship_ Own-child                   0.362520\n",
       " relationship_ Unmarried                   0.307623\n",
       " relationship_ Wife                        0.214095\n",
       " race_ Amer-Indian-Eskimo                  0.097263\n",
       " race_ Asian-Pac-Islander                  0.175759\n",
       " race_ Black                               0.294513\n",
       " race_ Other                               0.090849\n",
       " race_ White                               0.352832\n",
       " sex_ Female                               0.470499\n",
       " sex_ Male                                 0.470499\n",
       " native_ NonUS                             0.305446\n",
       " native_ US                                0.305446\n",
       " dtype: float64)"
      ]
     },
     "execution_count": 34,
     "metadata": {},
     "output_type": "execute_result"
    }
   ],
   "source": [
    "np.mean(X2), np.std(X2)"
   ]
  },
  {
   "cell_type": "code",
   "execution_count": 35,
   "metadata": {
    "scrolled": true
   },
   "outputs": [
    {
     "data": {
      "text/html": [
       "<div>\n",
       "<style scoped>\n",
       "    .dataframe tbody tr th:only-of-type {\n",
       "        vertical-align: middle;\n",
       "    }\n",
       "\n",
       "    .dataframe tbody tr th {\n",
       "        vertical-align: top;\n",
       "    }\n",
       "\n",
       "    .dataframe thead th {\n",
       "        text-align: right;\n",
       "    }\n",
       "</style>\n",
       "<table border=\"1\" class=\"dataframe\">\n",
       "  <thead>\n",
       "    <tr style=\"text-align: right;\">\n",
       "      <th></th>\n",
       "      <th>age</th>\n",
       "      <th>education-num</th>\n",
       "      <th>hours-per-week</th>\n",
       "      <th>workclass_ ?</th>\n",
       "      <th>workclass_ Federal-gov</th>\n",
       "      <th>workclass_ Local-gov</th>\n",
       "      <th>workclass_ Never-worked</th>\n",
       "      <th>workclass_ Private</th>\n",
       "      <th>workclass_ Self-emp-inc</th>\n",
       "      <th>workclass_ Self-emp-not-inc</th>\n",
       "      <th>...</th>\n",
       "      <th>relationship_ Wife</th>\n",
       "      <th>race_ Amer-Indian-Eskimo</th>\n",
       "      <th>race_ Asian-Pac-Islander</th>\n",
       "      <th>race_ Black</th>\n",
       "      <th>race_ Other</th>\n",
       "      <th>race_ White</th>\n",
       "      <th>sex_ Female</th>\n",
       "      <th>sex_ Male</th>\n",
       "      <th>native_ NonUS</th>\n",
       "      <th>native_ US</th>\n",
       "    </tr>\n",
       "  </thead>\n",
       "  <tbody>\n",
       "    <tr>\n",
       "      <th>count</th>\n",
       "      <td>32561.000000</td>\n",
       "      <td>32561.000000</td>\n",
       "      <td>32561.000000</td>\n",
       "      <td>32561.000000</td>\n",
       "      <td>32561.000000</td>\n",
       "      <td>32561.000000</td>\n",
       "      <td>32561.000000</td>\n",
       "      <td>32561.000000</td>\n",
       "      <td>32561.000000</td>\n",
       "      <td>32561.000000</td>\n",
       "      <td>...</td>\n",
       "      <td>32561.000000</td>\n",
       "      <td>32561.000000</td>\n",
       "      <td>32561.000000</td>\n",
       "      <td>32561.000000</td>\n",
       "      <td>32561.000000</td>\n",
       "      <td>32561.000000</td>\n",
       "      <td>32561.000000</td>\n",
       "      <td>32561.000000</td>\n",
       "      <td>32561.000000</td>\n",
       "      <td>32561.000000</td>\n",
       "    </tr>\n",
       "    <tr>\n",
       "      <th>mean</th>\n",
       "      <td>38.581647</td>\n",
       "      <td>10.080679</td>\n",
       "      <td>40.437456</td>\n",
       "      <td>0.056386</td>\n",
       "      <td>0.029483</td>\n",
       "      <td>0.064279</td>\n",
       "      <td>0.000215</td>\n",
       "      <td>0.697030</td>\n",
       "      <td>0.034274</td>\n",
       "      <td>0.078038</td>\n",
       "      <td>...</td>\n",
       "      <td>0.048156</td>\n",
       "      <td>0.009551</td>\n",
       "      <td>0.031909</td>\n",
       "      <td>0.095943</td>\n",
       "      <td>0.008323</td>\n",
       "      <td>0.854274</td>\n",
       "      <td>0.330795</td>\n",
       "      <td>0.669205</td>\n",
       "      <td>0.104143</td>\n",
       "      <td>0.895857</td>\n",
       "    </tr>\n",
       "    <tr>\n",
       "      <th>std</th>\n",
       "      <td>13.640433</td>\n",
       "      <td>2.572720</td>\n",
       "      <td>12.347429</td>\n",
       "      <td>0.230670</td>\n",
       "      <td>0.169159</td>\n",
       "      <td>0.245254</td>\n",
       "      <td>0.014661</td>\n",
       "      <td>0.459549</td>\n",
       "      <td>0.181935</td>\n",
       "      <td>0.268236</td>\n",
       "      <td>...</td>\n",
       "      <td>0.214099</td>\n",
       "      <td>0.097264</td>\n",
       "      <td>0.175761</td>\n",
       "      <td>0.294518</td>\n",
       "      <td>0.090851</td>\n",
       "      <td>0.352837</td>\n",
       "      <td>0.470506</td>\n",
       "      <td>0.470506</td>\n",
       "      <td>0.305451</td>\n",
       "      <td>0.305451</td>\n",
       "    </tr>\n",
       "    <tr>\n",
       "      <th>min</th>\n",
       "      <td>17.000000</td>\n",
       "      <td>1.000000</td>\n",
       "      <td>1.000000</td>\n",
       "      <td>0.000000</td>\n",
       "      <td>0.000000</td>\n",
       "      <td>0.000000</td>\n",
       "      <td>0.000000</td>\n",
       "      <td>0.000000</td>\n",
       "      <td>0.000000</td>\n",
       "      <td>0.000000</td>\n",
       "      <td>...</td>\n",
       "      <td>0.000000</td>\n",
       "      <td>0.000000</td>\n",
       "      <td>0.000000</td>\n",
       "      <td>0.000000</td>\n",
       "      <td>0.000000</td>\n",
       "      <td>0.000000</td>\n",
       "      <td>0.000000</td>\n",
       "      <td>0.000000</td>\n",
       "      <td>0.000000</td>\n",
       "      <td>0.000000</td>\n",
       "    </tr>\n",
       "    <tr>\n",
       "      <th>25%</th>\n",
       "      <td>28.000000</td>\n",
       "      <td>9.000000</td>\n",
       "      <td>40.000000</td>\n",
       "      <td>0.000000</td>\n",
       "      <td>0.000000</td>\n",
       "      <td>0.000000</td>\n",
       "      <td>0.000000</td>\n",
       "      <td>0.000000</td>\n",
       "      <td>0.000000</td>\n",
       "      <td>0.000000</td>\n",
       "      <td>...</td>\n",
       "      <td>0.000000</td>\n",
       "      <td>0.000000</td>\n",
       "      <td>0.000000</td>\n",
       "      <td>0.000000</td>\n",
       "      <td>0.000000</td>\n",
       "      <td>1.000000</td>\n",
       "      <td>0.000000</td>\n",
       "      <td>0.000000</td>\n",
       "      <td>0.000000</td>\n",
       "      <td>1.000000</td>\n",
       "    </tr>\n",
       "    <tr>\n",
       "      <th>50%</th>\n",
       "      <td>37.000000</td>\n",
       "      <td>10.000000</td>\n",
       "      <td>40.000000</td>\n",
       "      <td>0.000000</td>\n",
       "      <td>0.000000</td>\n",
       "      <td>0.000000</td>\n",
       "      <td>0.000000</td>\n",
       "      <td>1.000000</td>\n",
       "      <td>0.000000</td>\n",
       "      <td>0.000000</td>\n",
       "      <td>...</td>\n",
       "      <td>0.000000</td>\n",
       "      <td>0.000000</td>\n",
       "      <td>0.000000</td>\n",
       "      <td>0.000000</td>\n",
       "      <td>0.000000</td>\n",
       "      <td>1.000000</td>\n",
       "      <td>0.000000</td>\n",
       "      <td>1.000000</td>\n",
       "      <td>0.000000</td>\n",
       "      <td>1.000000</td>\n",
       "    </tr>\n",
       "    <tr>\n",
       "      <th>75%</th>\n",
       "      <td>48.000000</td>\n",
       "      <td>12.000000</td>\n",
       "      <td>45.000000</td>\n",
       "      <td>0.000000</td>\n",
       "      <td>0.000000</td>\n",
       "      <td>0.000000</td>\n",
       "      <td>0.000000</td>\n",
       "      <td>1.000000</td>\n",
       "      <td>0.000000</td>\n",
       "      <td>0.000000</td>\n",
       "      <td>...</td>\n",
       "      <td>0.000000</td>\n",
       "      <td>0.000000</td>\n",
       "      <td>0.000000</td>\n",
       "      <td>0.000000</td>\n",
       "      <td>0.000000</td>\n",
       "      <td>1.000000</td>\n",
       "      <td>1.000000</td>\n",
       "      <td>1.000000</td>\n",
       "      <td>0.000000</td>\n",
       "      <td>1.000000</td>\n",
       "    </tr>\n",
       "    <tr>\n",
       "      <th>max</th>\n",
       "      <td>90.000000</td>\n",
       "      <td>16.000000</td>\n",
       "      <td>99.000000</td>\n",
       "      <td>1.000000</td>\n",
       "      <td>1.000000</td>\n",
       "      <td>1.000000</td>\n",
       "      <td>1.000000</td>\n",
       "      <td>1.000000</td>\n",
       "      <td>1.000000</td>\n",
       "      <td>1.000000</td>\n",
       "      <td>...</td>\n",
       "      <td>1.000000</td>\n",
       "      <td>1.000000</td>\n",
       "      <td>1.000000</td>\n",
       "      <td>1.000000</td>\n",
       "      <td>1.000000</td>\n",
       "      <td>1.000000</td>\n",
       "      <td>1.000000</td>\n",
       "      <td>1.000000</td>\n",
       "      <td>1.000000</td>\n",
       "      <td>1.000000</td>\n",
       "    </tr>\n",
       "  </tbody>\n",
       "</table>\n",
       "<p>8 rows × 49 columns</p>\n",
       "</div>"
      ],
      "text/plain": [
       "                age  education-num  hours-per-week  workclass_ ?  \\\n",
       "count  32561.000000   32561.000000    32561.000000  32561.000000   \n",
       "mean      38.581647      10.080679       40.437456      0.056386   \n",
       "std       13.640433       2.572720       12.347429      0.230670   \n",
       "min       17.000000       1.000000        1.000000      0.000000   \n",
       "25%       28.000000       9.000000       40.000000      0.000000   \n",
       "50%       37.000000      10.000000       40.000000      0.000000   \n",
       "75%       48.000000      12.000000       45.000000      0.000000   \n",
       "max       90.000000      16.000000       99.000000      1.000000   \n",
       "\n",
       "       workclass_ Federal-gov  workclass_ Local-gov  workclass_ Never-worked  \\\n",
       "count            32561.000000          32561.000000             32561.000000   \n",
       "mean                 0.029483              0.064279                 0.000215   \n",
       "std                  0.169159              0.245254                 0.014661   \n",
       "min                  0.000000              0.000000                 0.000000   \n",
       "25%                  0.000000              0.000000                 0.000000   \n",
       "50%                  0.000000              0.000000                 0.000000   \n",
       "75%                  0.000000              0.000000                 0.000000   \n",
       "max                  1.000000              1.000000                 1.000000   \n",
       "\n",
       "       workclass_ Private  workclass_ Self-emp-inc  \\\n",
       "count        32561.000000             32561.000000   \n",
       "mean             0.697030                 0.034274   \n",
       "std              0.459549                 0.181935   \n",
       "min              0.000000                 0.000000   \n",
       "25%              0.000000                 0.000000   \n",
       "50%              1.000000                 0.000000   \n",
       "75%              1.000000                 0.000000   \n",
       "max              1.000000                 1.000000   \n",
       "\n",
       "       workclass_ Self-emp-not-inc  ...  relationship_ Wife  \\\n",
       "count                 32561.000000  ...        32561.000000   \n",
       "mean                      0.078038  ...            0.048156   \n",
       "std                       0.268236  ...            0.214099   \n",
       "min                       0.000000  ...            0.000000   \n",
       "25%                       0.000000  ...            0.000000   \n",
       "50%                       0.000000  ...            0.000000   \n",
       "75%                       0.000000  ...            0.000000   \n",
       "max                       1.000000  ...            1.000000   \n",
       "\n",
       "       race_ Amer-Indian-Eskimo  race_ Asian-Pac-Islander   race_ Black  \\\n",
       "count              32561.000000              32561.000000  32561.000000   \n",
       "mean                   0.009551                  0.031909      0.095943   \n",
       "std                    0.097264                  0.175761      0.294518   \n",
       "min                    0.000000                  0.000000      0.000000   \n",
       "25%                    0.000000                  0.000000      0.000000   \n",
       "50%                    0.000000                  0.000000      0.000000   \n",
       "75%                    0.000000                  0.000000      0.000000   \n",
       "max                    1.000000                  1.000000      1.000000   \n",
       "\n",
       "        race_ Other   race_ White   sex_ Female     sex_ Male  native_ NonUS  \\\n",
       "count  32561.000000  32561.000000  32561.000000  32561.000000   32561.000000   \n",
       "mean       0.008323      0.854274      0.330795      0.669205       0.104143   \n",
       "std        0.090851      0.352837      0.470506      0.470506       0.305451   \n",
       "min        0.000000      0.000000      0.000000      0.000000       0.000000   \n",
       "25%        0.000000      1.000000      0.000000      0.000000       0.000000   \n",
       "50%        0.000000      1.000000      0.000000      1.000000       0.000000   \n",
       "75%        0.000000      1.000000      1.000000      1.000000       0.000000   \n",
       "max        1.000000      1.000000      1.000000      1.000000       1.000000   \n",
       "\n",
       "         native_ US  \n",
       "count  32561.000000  \n",
       "mean       0.895857  \n",
       "std        0.305451  \n",
       "min        0.000000  \n",
       "25%        1.000000  \n",
       "50%        1.000000  \n",
       "75%        1.000000  \n",
       "max        1.000000  \n",
       "\n",
       "[8 rows x 49 columns]"
      ]
     },
     "execution_count": 35,
     "metadata": {},
     "output_type": "execute_result"
    }
   ],
   "source": [
    "X2.describe()"
   ]
  },
  {
   "cell_type": "code",
   "execution_count": 36,
   "metadata": {},
   "outputs": [
    {
     "name": "stdout",
     "output_type": "stream",
     "text": [
      "['age' 'education-num' 'hours-per-week' 'workclass_ ?'\n",
      " 'workclass_ Federal-gov' 'workclass_ Local-gov' 'workclass_ Never-worked'\n",
      " 'workclass_ Private' 'workclass_ Self-emp-inc'\n",
      " 'workclass_ Self-emp-not-inc' 'workclass_ State-gov'\n",
      " 'workclass_ Without-pay' 'marital-status_ Divorced'\n",
      " 'marital-status_ Married-AF-spouse' 'marital-status_ Married-civ-spouse'\n",
      " 'marital-status_ Married-spouse-absent' 'marital-status_ Never-married'\n",
      " 'marital-status_ Separated' 'marital-status_ Widowed'\n",
      " 'occupation_ Adm-clerical' 'occupation_ Armed-Forces'\n",
      " 'occupation_ Craft-repair' 'occupation_ Exec-managerial'\n",
      " 'occupation_ Farming-fishing' 'occupation_ Handlers-cleaners'\n",
      " 'occupation_ Machine-op-inspct' 'occupation_ Other-service'\n",
      " 'occupation_ Priv-house-serv' 'occupation_ Prof-specialty'\n",
      " 'occupation_ Protective-serv' 'occupation_ Sales'\n",
      " 'occupation_ Tech-support' 'occupation_ Transport-moving'\n",
      " 'occupation_ Unknown-Occupation' 'relationship_ Husband'\n",
      " 'relationship_ Not-in-family' 'relationship_ Other-relative'\n",
      " 'relationship_ Own-child' 'relationship_ Unmarried' 'relationship_ Wife'\n",
      " 'race_ Amer-Indian-Eskimo' 'race_ Asian-Pac-Islander' 'race_ Black'\n",
      " 'race_ Other' 'race_ White' 'sex_ Female' 'sex_ Male' 'native_ NonUS'\n",
      " 'native_ US']\n",
      "(49,)\n",
      "<class 'numpy.ndarray'>\n"
     ]
    }
   ],
   "source": [
    "features = np.array(X2.columns)\n",
    "print(features)\n",
    "print(features.shape)\n",
    "print(type(features))"
   ]
  },
  {
   "cell_type": "code",
   "execution_count": 37,
   "metadata": {},
   "outputs": [
    {
     "data": {
      "text/plain": [
       "(-3.874499793550988e-18, 1.0000000000000002)"
      ]
     },
     "execution_count": 37,
     "metadata": {},
     "output_type": "execute_result"
    }
   ],
   "source": [
    "np.mean(X3), np.std(X3)"
   ]
  },
  {
   "cell_type": "code",
   "execution_count": 38,
   "metadata": {},
   "outputs": [
    {
     "data": {
      "text/plain": [
       "array([[39, 13, 40, ...,  1,  0,  1],\n",
       "       [50, 13, 13, ...,  1,  0,  1],\n",
       "       [38,  9, 40, ...,  1,  0,  1],\n",
       "       ...,\n",
       "       [58,  9, 40, ...,  0,  0,  1],\n",
       "       [22,  9, 20, ...,  1,  0,  1],\n",
       "       [52,  9, 40, ...,  0,  0,  1]])"
      ]
     },
     "execution_count": 38,
     "metadata": {},
     "output_type": "execute_result"
    }
   ],
   "source": [
    "X2.values"
   ]
  },
  {
   "cell_type": "code",
   "execution_count": 39,
   "metadata": {},
   "outputs": [
    {
     "data": {
      "text/plain": [
       "array([[ 0.03067056,  1.13473876, -0.03542945, ...,  0.70307135,\n",
       "        -0.34095391,  0.34095391],\n",
       "       [ 0.83710898,  1.13473876, -2.22215312, ...,  0.70307135,\n",
       "        -0.34095391,  0.34095391],\n",
       "       [-0.04264203, -0.42005962, -0.03542945, ...,  0.70307135,\n",
       "        -0.34095391,  0.34095391],\n",
       "       ...,\n",
       "       [ 1.42360965, -0.42005962, -0.03542945, ..., -1.42233076,\n",
       "        -0.34095391,  0.34095391],\n",
       "       [-1.21564337, -0.42005962, -1.65522476, ...,  0.70307135,\n",
       "        -0.34095391,  0.34095391],\n",
       "       [ 0.98373415, -0.42005962, -0.03542945, ..., -1.42233076,\n",
       "        -0.34095391,  0.34095391]])"
      ]
     },
     "execution_count": 39,
     "metadata": {},
     "output_type": "execute_result"
    }
   ],
   "source": [
    "X3"
   ]
  },
  {
   "cell_type": "code",
   "execution_count": 40,
   "metadata": {
    "scrolled": true
   },
   "outputs": [
    {
     "data": {
      "text/plain": [
       "array([0, 0, 0, ..., 0, 0, 1])"
      ]
     },
     "execution_count": 40,
     "metadata": {},
     "output_type": "execute_result"
    }
   ],
   "source": [
    "y = adult7['income'].values\n",
    "y"
   ]
  },
  {
   "cell_type": "markdown",
   "metadata": {},
   "source": [
    "### Apply Logistics Regression Model"
   ]
  },
  {
   "cell_type": "code",
   "execution_count": 41,
   "metadata": {},
   "outputs": [],
   "source": [
    "from sklearn.model_selection import train_test_split\n",
    "from sklearn.linear_model import LogisticRegression\n",
    "from sklearn.metrics import accuracy_score, confusion_matrix, classification_report"
   ]
  },
  {
   "cell_type": "code",
   "execution_count": 42,
   "metadata": {},
   "outputs": [],
   "source": [
    "# Split the data into a training and test set.\n",
    "Xtr, Xte, ytr, yte = train_test_split(X3, y, test_size = 0.3, random_state=42)\n",
    "logreg = LogisticRegression()\n",
    "# Fit the model on the trainng data.\n",
    "logreg.fit(Xtr, ytr)\n",
    "# Predict the ytest values by applying the model to Xtestlr\n",
    "ypred = logreg.predict(Xte)\n",
    "# Print the accuracy from the testing data."
   ]
  },
  {
   "cell_type": "code",
   "execution_count": 43,
   "metadata": {},
   "outputs": [
    {
     "name": "stdout",
     "output_type": "stream",
     "text": [
      "0.8328385709898659\n"
     ]
    }
   ],
   "source": [
    "print(accuracy_score(yte, ypred))"
   ]
  },
  {
   "cell_type": "code",
   "execution_count": 44,
   "metadata": {},
   "outputs": [
    {
     "name": "stdout",
     "output_type": "stream",
     "text": [
      "[[6871  584]\n",
      " [1049 1265]]\n"
     ]
    }
   ],
   "source": [
    "print(confusion_matrix(yte, ypred))"
   ]
  },
  {
   "cell_type": "code",
   "execution_count": 45,
   "metadata": {},
   "outputs": [
    {
     "name": "stdout",
     "output_type": "stream",
     "text": [
      "              precision    recall  f1-score   support\n",
      "\n",
      "           0       0.87      0.92      0.89      7455\n",
      "           1       0.68      0.55      0.61      2314\n",
      "\n",
      "    accuracy                           0.83      9769\n",
      "   macro avg       0.78      0.73      0.75      9769\n",
      "weighted avg       0.82      0.83      0.83      9769\n",
      "\n"
     ]
    }
   ],
   "source": [
    "print(classification_report(yte, ypred))"
   ]
  },
  {
   "cell_type": "code",
   "execution_count": 46,
   "metadata": {
    "scrolled": false
   },
   "outputs": [
    {
     "data": {
      "image/png": "[encoded data removed]",
      "text/plain": [
       "<Figure size 432x288 with 1 Axes>"
      ]
     },
     "metadata": {
      "needs_background": "light"
     },
     "output_type": "display_data"
    }
   ],
   "source": [
    "from sklearn.metrics import roc_curve\n",
    "y_pred_prob = logreg.predict_proba(Xte)[:, 1]\n",
    "fpr, tpr, thresholds = roc_curve(yte, y_pred_prob)\n",
    "plt.plot([0, 1], [0, 1], 'k--')\n",
    "plt.plot(fpr, tpr, label='Logistic Regression')\n",
    "plt.xlabel('False Positive Rate')\n",
    "plt.ylabel('True Positive Rate')\n",
    "plt.title('Logistic Regression ROC Curve')\n",
    "plt.show();"
   ]
  },
  {
   "cell_type": "markdown",
   "metadata": {},
   "source": [
    "### As you can see above, since the area under the ROC curve is large, we can safely assume that the model used is a good model"
   ]
  },
  {
   "cell_type": "code",
   "execution_count": 47,
   "metadata": {
    "scrolled": true
   },
   "outputs": [
    {
     "data": {
      "text/plain": [
       "array([[ 0.40299661,  0.75743752,  0.38621494, -0.07140536,  0.10985973,\n",
       "        -0.01600513, -0.0892235 ,  0.05976921,  0.066069  , -0.08911415,\n",
       "        -0.04750756, -0.15283039, -0.25588536,  0.04764291,  0.78520468,\n",
       "        -0.07976648, -0.52982816, -0.16013868, -0.11086589, -0.01293078,\n",
       "        -0.10379602,  0.01161802,  0.25283968, -0.17971416, -0.1415534 ,\n",
       "        -0.0927726 , -0.25834887, -0.16454192,  0.18003028,  0.07467144,\n",
       "         0.08485999,  0.09751048, -0.0303907 , -0.07693846, -0.13314322,\n",
       "         0.21179887, -0.08947698, -0.29364279,  0.13032758,  0.25547623,\n",
       "        -0.04892944, -0.0070677 ,  0.00506132, -0.06718452,  0.03008307,\n",
       "        -0.20066957,  0.20066957, -0.03854005,  0.03854005]])"
      ]
     },
     "execution_count": 47,
     "metadata": {},
     "output_type": "execute_result"
    }
   ],
   "source": [
    "logreg.coef_"
   ]
  },
  {
   "cell_type": "markdown",
   "metadata": {},
   "source": [
    "### Oversampling using SMOT (Synthetic Minority Oversampling Technique) Technique"
   ]
  },
  {
   "cell_type": "markdown",
   "metadata": {},
   "source": [
    "#### Since the >50K class is under-sampled the precision, recall and f1-score of this class is not great. This has also impacted the overall scores of the results. This can be corrected by oversampling the under-represented/minority class - >50K income class in this case. Let's use the SMOT class to oversample the minority class and rerun the Logistic Regression model on the new sample."
   ]
  },
  {
   "cell_type": "code",
   "execution_count": 48,
   "metadata": {},
   "outputs": [
    {
     "name": "stdout",
     "output_type": "stream",
     "text": [
      "0.7.0\n"
     ]
    }
   ],
   "source": [
    "import imblearn\n",
    "print(imblearn.__version__)"
   ]
  },
  {
   "cell_type": "code",
   "execution_count": 49,
   "metadata": {},
   "outputs": [],
   "source": [
    "from imblearn import under_sampling, over_sampling\n",
    "from imblearn.over_sampling import SMOTE\n",
    "smote = SMOTE()"
   ]
  },
  {
   "cell_type": "code",
   "execution_count": 50,
   "metadata": {},
   "outputs": [],
   "source": [
    "X4, y4 = smote.fit_resample(X3 , y)"
   ]
  },
  {
   "cell_type": "code",
   "execution_count": 51,
   "metadata": {},
   "outputs": [
    {
     "data": {
      "text/plain": [
       "(49440, 49)"
      ]
     },
     "execution_count": 51,
     "metadata": {},
     "output_type": "execute_result"
    }
   ],
   "source": [
    "X4.shape"
   ]
  },
  {
   "cell_type": "code",
   "execution_count": 52,
   "metadata": {},
   "outputs": [
    {
     "data": {
      "text/plain": [
       "(49440,)"
      ]
     },
     "execution_count": 52,
     "metadata": {},
     "output_type": "execute_result"
    }
   ],
   "source": [
    "y4.shape"
   ]
  },
  {
   "cell_type": "code",
   "execution_count": 53,
   "metadata": {},
   "outputs": [
    {
     "data": {
      "text/plain": [
       "array([[ 0.03067056,  1.13473876, -0.03542945, ...,  0.70307135,\n",
       "        -0.34095391,  0.34095391],\n",
       "       [ 0.83710898,  1.13473876, -2.22215312, ...,  0.70307135,\n",
       "        -0.34095391,  0.34095391],\n",
       "       [-0.04264203, -0.42005962, -0.03542945, ...,  0.70307135,\n",
       "        -0.34095391,  0.34095391],\n",
       "       ...,\n",
       "       [ 0.75763286,  1.13473876,  0.77446821, ...,  0.70307135,\n",
       "        -0.34095391,  0.34095391],\n",
       "       [ 0.74533291,  1.48365238, -0.03542945, ...,  0.70307135,\n",
       "        -0.34095391,  0.34095391],\n",
       "       [ 1.23628942, -0.42005962,  1.17941704, ...,  0.70307135,\n",
       "        -0.34095391,  0.34095391]])"
      ]
     },
     "execution_count": 53,
     "metadata": {},
     "output_type": "execute_result"
    }
   ],
   "source": [
    "X4"
   ]
  },
  {
   "cell_type": "code",
   "execution_count": 54,
   "metadata": {},
   "outputs": [
    {
     "data": {
      "text/plain": [
       "array([0, 0, 0, ..., 1, 1, 1])"
      ]
     },
     "execution_count": 54,
     "metadata": {},
     "output_type": "execute_result"
    }
   ],
   "source": [
    "y4"
   ]
  },
  {
   "cell_type": "code",
   "execution_count": 55,
   "metadata": {},
   "outputs": [],
   "source": [
    "# Split the data into a training and test set.\n",
    "Xtr2, Xte2, ytr2, yte2 = train_test_split(X4, y4, test_size = 0.3, random_state=42)\n",
    "logreg = LogisticRegression()\n",
    "# Fit the model on the trainng data.\n",
    "logreg.fit(Xtr2, ytr2)\n",
    "# Predict the ytest values by applying the model to Xtestlr\n",
    "ypred2 = logreg.predict(Xte2)\n",
    "# Print the accuracy from the testing data."
   ]
  },
  {
   "cell_type": "code",
   "execution_count": 56,
   "metadata": {},
   "outputs": [
    {
     "name": "stdout",
     "output_type": "stream",
     "text": [
      "0.8079153182308522\n"
     ]
    }
   ],
   "source": [
    "print(accuracy_score(yte2, ypred2))"
   ]
  },
  {
   "cell_type": "code",
   "execution_count": 57,
   "metadata": {},
   "outputs": [
    {
     "name": "stdout",
     "output_type": "stream",
     "text": [
      "[[5655 1736]\n",
      " [1113 6328]]\n"
     ]
    }
   ],
   "source": [
    "print(confusion_matrix(yte2, ypred2))"
   ]
  },
  {
   "cell_type": "code",
   "execution_count": 58,
   "metadata": {},
   "outputs": [
    {
     "name": "stdout",
     "output_type": "stream",
     "text": [
      "              precision    recall  f1-score   support\n",
      "\n",
      "           0       0.84      0.77      0.80      7391\n",
      "           1       0.78      0.85      0.82      7441\n",
      "\n",
      "    accuracy                           0.81     14832\n",
      "   macro avg       0.81      0.81      0.81     14832\n",
      "weighted avg       0.81      0.81      0.81     14832\n",
      "\n"
     ]
    }
   ],
   "source": [
    "print(classification_report(yte2, ypred2))"
   ]
  },
  {
   "cell_type": "markdown",
   "metadata": {},
   "source": [
    "### Key findings based on Classification Report\n",
    "\n",
    "#### As you can see above the precision, recall and f1 score for class 1 (>50K income class) have gone up significantly with the help of oversampling using SMOT technique. However please note that the overall score (wieghted average) did not improve much, and in fact reduced by 1 percentage point comnpared to the results without oversampling.\n",
    "\n",
    "#### However we would still prefer these scores over the one without oversampling because the second sample has better and balanced representation of both the <=50K and >50K income groups"
   ]
  },
  {
   "cell_type": "code",
   "execution_count": 59,
   "metadata": {},
   "outputs": [
    {
     "data": {
      "image/png": "[encoded data removed]",
      "text/plain": [
       "<Figure size 432x288 with 1 Axes>"
      ]
     },
     "metadata": {
      "needs_background": "light"
     },
     "output_type": "display_data"
    }
   ],
   "source": [
    "from sklearn.metrics import roc_curve\n",
    "y_pred_prob2 = logreg.predict_proba(Xte2)[:, 1]\n",
    "fpr, tpr, thresholds = roc_curve(yte2, y_pred_prob2)\n",
    "plt.plot([0, 1], [0, 1], 'k--')\n",
    "plt.plot(fpr, tpr, label='Logistic Regression')\n",
    "plt.xlabel('False Positive Rate')\n",
    "plt.ylabel('True Positive Rate')\n",
    "plt.title('Logistic Regression ROC Curve')\n",
    "plt.show();"
   ]
  },
  {
   "cell_type": "code",
   "execution_count": 60,
   "metadata": {},
   "outputs": [
    {
     "name": "stdout",
     "output_type": "stream",
     "text": [
      "[[ 0.47925996  0.78850057  0.46016436 -0.06191239  0.09977556 -0.02509952\n",
      "  -0.05669537  0.06828391  0.07385494 -0.09090908 -0.0643258  -0.16672321\n",
      "  -0.23721118  0.0558316   0.79607168 -0.07900416 -0.53524052 -0.19199511\n",
      "  -0.13427982 -0.00765637 -0.02104066  0.01365561  0.25345333 -0.18625931\n",
      "  -0.13834279 -0.08549019 -0.29564211 -0.2578976   0.20161056  0.09253307\n",
      "   0.08615113  0.09151242 -0.02772193 -0.06539874 -0.11519601  0.23635309\n",
      "  -0.06138681 -0.31373461  0.06454016  0.27045012 -0.03342256  0.02813881\n",
      "  -0.01666085 -0.04776345  0.02140182 -0.21667817  0.21667817 -0.04987447\n",
      "   0.04987447]]\n"
     ]
    }
   ],
   "source": [
    "coefs = logreg.coef_\n",
    "print(coefs)"
   ]
  },
  {
   "cell_type": "code",
   "execution_count": 61,
   "metadata": {},
   "outputs": [
    {
     "name": "stdout",
     "output_type": "stream",
     "text": [
      "(49,)\n",
      "[ 0.47925996  0.78850057  0.46016436 -0.06191239  0.09977556 -0.02509952\n",
      " -0.05669537  0.06828391  0.07385494 -0.09090908 -0.0643258  -0.16672321\n",
      " -0.23721118  0.0558316   0.79607168 -0.07900416 -0.53524052 -0.19199511\n",
      " -0.13427982 -0.00765637 -0.02104066  0.01365561  0.25345333 -0.18625931\n",
      " -0.13834279 -0.08549019 -0.29564211 -0.2578976   0.20161056  0.09253307\n",
      "  0.08615113  0.09151242 -0.02772193 -0.06539874 -0.11519601  0.23635309\n",
      " -0.06138681 -0.31373461  0.06454016  0.27045012 -0.03342256  0.02813881\n",
      " -0.01666085 -0.04776345  0.02140182 -0.21667817  0.21667817 -0.04987447\n",
      "  0.04987447]\n",
      "<class 'numpy.ndarray'>\n"
     ]
    }
   ],
   "source": [
    "coefs2 = coefs[0,:]\n",
    "print(coefs2.shape)\n",
    "print(coefs2)\n",
    "print(type(coefs2))"
   ]
  },
  {
   "cell_type": "code",
   "execution_count": 62,
   "metadata": {},
   "outputs": [
    {
     "data": {
      "image/png": "[encoded data removed]",
      "text/plain": [
       "<Figure size 1440x504 with 1 Axes>"
      ]
     },
     "metadata": {
      "needs_background": "light"
     },
     "output_type": "display_data"
    }
   ],
   "source": [
    "plt.figure(figsize=(20,7))\n",
    "plt.bar(features, coefs2)\n",
    "\n",
    "plt.xlabel('Features')\n",
    "plt.ylabel('Coefficients')\n",
    "plt.title('Impact of Features on Predicting Income Class')\n",
    "plt.xticks(\n",
    "    rotation=90, \n",
    "    horizontalalignment='center',\n",
    "    fontweight='light',\n",
    "    fontsize='large')\n",
    "plt.show()"
   ]
  },
  {
   "cell_type": "markdown",
   "metadata": {},
   "source": [
    "### Key findings based on analysis of coefficient values for features\n",
    "#### 1. Age, Education, Hours-per-Week, Married W Civil Souse, Executive-Managerial Occupation, Male categories have high and positive impact on determining and predicting income of individuals\n",
    "#### 2. Marital Status of Never Married, Relationship of Own Child have significant but negative correlatoin with income\n",
    "#### 3. Male class is positively correlated with income while Female class is negatively correlated with income (this could be because of lower employment status among female class\n",
    "#### 4. Race does not seem to have any impact on predicting the income class\n",
    "#### 5. Many low skilled income categories (e.g. Farming, Fishing, Handlers, Cleaners) have a negative correlation with income"
   ]
  },
  {
   "cell_type": "code",
   "execution_count": null,
   "metadata": {},
   "outputs": [],
   "source": []
  },
  {
   "cell_type": "code",
   "execution_count": null,
   "metadata": {},
   "outputs": [],
   "source": []
  }
 ],
 "metadata": {
  "kernelspec": {
   "display_name": "Python 3",
   "language": "python",
   "name": "python3"
  },
  "language_info": {
   "codemirror_mode": {
    "name": "ipython",
    "version": 3
   },
   "file_extension": ".py",
   "mimetype": "text/x-python",
   "name": "python",
   "nbconvert_exporter": "python",
   "pygments_lexer": "ipython3",
   "version": "3.8.3"
  }
 },
 "nbformat": 4,
 "nbformat_minor": 4
}
